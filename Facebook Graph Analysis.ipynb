{
 "cells": [
  {
   "cell_type": "markdown",
   "metadata": {},
   "source": [
    "## Import Libraries"
   ]
  },
  {
   "cell_type": "code",
   "execution_count": 1,
   "metadata": {},
   "outputs": [],
   "source": [
    "from karateclub import GraphReader\n",
    "import numpy as np\n",
    "import pandas as pd\n",
    "import matplotlib.pyplot as plt\n",
    "import seaborn as sns\n",
    "from collections import defaultdict\n",
    "import pyprind\n",
    "from pyprind import ProgBar\n",
    "import random as pyrandom\n",
    "pyrandom.seed(1)\n",
    "from numpy.random import seed\n",
    "seed(1)\n",
    "from tensorflow import random\n",
    "random.set_seed(1)\n",
    "%matplotlib inline"
   ]
  },
  {
   "cell_type": "markdown",
   "metadata": {},
   "source": [
    "## Read the Graph"
   ]
  },
  {
   "cell_type": "code",
   "execution_count": 2,
   "metadata": {},
   "outputs": [],
   "source": [
    "reader = GraphReader(\"facebook\")\n",
    "\n",
    "graph = reader.get_graph()\n",
    "target = reader.get_target()"
   ]
  },
  {
   "cell_type": "code",
   "execution_count": 3,
   "metadata": {},
   "outputs": [
    {
     "data": {
      "text/plain": [
       "22470"
      ]
     },
     "execution_count": 3,
     "metadata": {},
     "output_type": "execute_result"
    }
   ],
   "source": [
    "graph.number_of_nodes()"
   ]
  },
  {
   "cell_type": "markdown",
   "metadata": {},
   "source": [
    "## DeepWalk Graph Embedding and ML"
   ]
  },
  {
   "cell_type": "code",
   "execution_count": 4,
   "metadata": {},
   "outputs": [],
   "source": [
    "from karateclub import DeepWalk\n",
    "deepwalk = DeepWalk(walk_length=100, dimensions=256)\n",
    "deepwalk.fit(graph)"
   ]
  },
  {
   "cell_type": "code",
   "execution_count": 5,
   "metadata": {},
   "outputs": [],
   "source": [
    "from sklearn.model_selection import train_test_split\n",
    "X = deepwalk.get_embedding()\n",
    "y = target\n",
    "X_train, X_test, y_train, y_test = train_test_split(X, y, test_size=0.2, random_state=42)"
   ]
  },
  {
   "cell_type": "markdown",
   "metadata": {},
   "source": [
    "### Logistic Regression"
   ]
  },
  {
   "cell_type": "code",
   "execution_count": 6,
   "metadata": {},
   "outputs": [
    {
     "data": {
      "text/plain": [
       "LogisticRegression(C=1.0, class_weight=None, dual=False, fit_intercept=True,\n",
       "                   intercept_scaling=1, l1_ratio=None, max_iter=100,\n",
       "                   multi_class='auto', n_jobs=None, penalty='l2',\n",
       "                   random_state=None, solver='lbfgs', tol=0.0001, verbose=0,\n",
       "                   warm_start=False)"
      ]
     },
     "execution_count": 6,
     "metadata": {},
     "output_type": "execute_result"
    }
   ],
   "source": [
    "from sklearn.linear_model import LogisticRegression\n",
    "from sklearn.metrics import roc_auc_score, accuracy_score, classification_report\n",
    "\n",
    "lr = LogisticRegression()\n",
    "lr.fit(X_train, y_train)"
   ]
  },
  {
   "cell_type": "code",
   "execution_count": 7,
   "metadata": {},
   "outputs": [
    {
     "name": "stdout",
     "output_type": "stream",
     "text": [
      "Accuracy: 0.7232\n",
      "              precision    recall  f1-score   support\n",
      "\n",
      "           0       0.73      0.77      0.75      1340\n",
      "           1       0.65      0.52      0.58       671\n",
      "           2       0.70      0.71      0.71      1125\n",
      "           3       0.77      0.78      0.78      1358\n",
      "\n",
      "    accuracy                           0.72      4494\n",
      "   macro avg       0.71      0.70      0.70      4494\n",
      "weighted avg       0.72      0.72      0.72      4494\n",
      "\n"
     ]
    }
   ],
   "source": [
    "y_pred = lr.predict(X_test)\n",
    "acc = accuracy_score(y_test, y_pred)\n",
    "print('Accuracy: {:.4f}'.format(acc))\n",
    "print(classification_report(y_test, y_pred))"
   ]
  },
  {
   "cell_type": "markdown",
   "metadata": {},
   "source": [
    "### Random Forest"
   ]
  },
  {
   "cell_type": "code",
   "execution_count": 8,
   "metadata": {},
   "outputs": [
    {
     "data": {
      "text/plain": [
       "RandomForestClassifier(bootstrap=True, ccp_alpha=0.0, class_weight=None,\n",
       "                       criterion='gini', max_depth=None, max_features='auto',\n",
       "                       max_leaf_nodes=None, max_samples=None,\n",
       "                       min_impurity_decrease=0.0, min_impurity_split=None,\n",
       "                       min_samples_leaf=1, min_samples_split=2,\n",
       "                       min_weight_fraction_leaf=0.0, n_estimators=100,\n",
       "                       n_jobs=None, oob_score=False, random_state=None,\n",
       "                       verbose=0, warm_start=False)"
      ]
     },
     "execution_count": 8,
     "metadata": {},
     "output_type": "execute_result"
    }
   ],
   "source": [
    "from sklearn.ensemble import RandomForestClassifier\n",
    "rf = RandomForestClassifier(n_estimators=100)\n",
    "rf.fit(X_train, y_train)"
   ]
  },
  {
   "cell_type": "code",
   "execution_count": 9,
   "metadata": {},
   "outputs": [
    {
     "name": "stdout",
     "output_type": "stream",
     "text": [
      "Accuracy: 0.6302\n",
      "              precision    recall  f1-score   support\n",
      "\n",
      "           0       0.61      0.75      0.67      1340\n",
      "           1       0.89      0.13      0.22       671\n",
      "           2       0.66      0.54      0.59      1125\n",
      "           3       0.62      0.83      0.71      1358\n",
      "\n",
      "    accuracy                           0.63      4494\n",
      "   macro avg       0.70      0.56      0.55      4494\n",
      "weighted avg       0.67      0.63      0.60      4494\n",
      "\n"
     ]
    }
   ],
   "source": [
    "y_pred = rf.predict(X_test)\n",
    "acc = accuracy_score(y_test, y_pred)\n",
    "print('Accuracy: {:.4f}'.format(acc))\n",
    "print(classification_report(y_test, y_pred))"
   ]
  },
  {
   "cell_type": "markdown",
   "metadata": {},
   "source": [
    "### Shallow Neural Network"
   ]
  },
  {
   "cell_type": "code",
   "execution_count": 10,
   "metadata": {},
   "outputs": [
    {
     "data": {
      "text/plain": [
       "MLPClassifier(activation='relu', alpha=0.0001, batch_size='auto', beta_1=0.9,\n",
       "              beta_2=0.999, early_stopping=False, epsilon=1e-08,\n",
       "              hidden_layer_sizes=(100, 100, 100), learning_rate='constant',\n",
       "              learning_rate_init=0.001, max_fun=15000, max_iter=200,\n",
       "              momentum=0.9, n_iter_no_change=10, nesterovs_momentum=True,\n",
       "              power_t=0.5, random_state=None, shuffle=True, solver='adam',\n",
       "              tol=0.0001, validation_fraction=0.1, verbose=False,\n",
       "              warm_start=False)"
      ]
     },
     "execution_count": 10,
     "metadata": {},
     "output_type": "execute_result"
    }
   ],
   "source": [
    "from sklearn.neural_network import MLPClassifier\n",
    "neural_net = MLPClassifier(hidden_layer_sizes=(100, 100, 100))\n",
    "neural_net.fit(X_train, y_train)"
   ]
  },
  {
   "cell_type": "code",
   "execution_count": 11,
   "metadata": {},
   "outputs": [
    {
     "name": "stdout",
     "output_type": "stream",
     "text": [
      "Accuracy: 0.8062\n",
      "              precision    recall  f1-score   support\n",
      "\n",
      "           0       0.82      0.82      0.82      1340\n",
      "           1       0.71      0.71      0.71       671\n",
      "           2       0.83      0.81      0.82      1125\n",
      "           3       0.82      0.84      0.83      1358\n",
      "\n",
      "    accuracy                           0.81      4494\n",
      "   macro avg       0.79      0.79      0.79      4494\n",
      "weighted avg       0.81      0.81      0.81      4494\n",
      "\n"
     ]
    }
   ],
   "source": [
    "y_pred = neural_net.predict(X_test)\n",
    "acc = accuracy_score(y_test, y_pred)\n",
    "print('Accuracy: {:.4f}'.format(acc))\n",
    "print(classification_report(y_test, y_pred))"
   ]
  },
  {
   "cell_type": "markdown",
   "metadata": {},
   "source": [
    "\n",
    "### Deeper Neural Network with Keras"
   ]
  },
  {
   "cell_type": "code",
   "execution_count": 12,
   "metadata": {},
   "outputs": [
    {
     "name": "stderr",
     "output_type": "stream",
     "text": [
      "Using TensorFlow backend.\n"
     ]
    }
   ],
   "source": [
    "import keras\n",
    "from keras.models import Sequential\n",
    "from keras.layers import Dense\n",
    "from keras.utils import to_categorical\n",
    "from keras.callbacks import *"
   ]
  },
  {
   "cell_type": "code",
   "execution_count": 13,
   "metadata": {},
   "outputs": [],
   "source": [
    "model = Sequential()\n",
    "model.add(Dense(128))\n",
    "model.add(Dense(128, activation='relu'))\n",
    "model.add(Dense(128, activation='relu'))\n",
    "model.add(Dense(128, activation='relu'))\n",
    "model.add(Dense(4, activation='softmax'))\n",
    "\n",
    "model.compile(loss='categorical_crossentropy', optimizer='adam', metrics=['accuracy'])\n",
    "\n",
    "early_stopping = EarlyStopping(monitor=\"val_loss\",\n",
    "    patience=2,\n",
    "    verbose=2,\n",
    "    mode=\"min\")\n",
    "model.add(Dense(4, activation='softmax'))\n",
    "\n",
    "model.compile(loss='categorical_crossentropy', optimizer='adam', metrics=['accuracy'])\n",
    "\n",
    "early_stopping = EarlyStopping(monitor=\"val_loss\",\n",
    "    patience=2,\n",
    "    verbose=2,\n",
    "    mode=\"min\")"
   ]
  },
  {
   "cell_type": "code",
   "execution_count": 14,
   "metadata": {},
   "outputs": [
    {
     "name": "stdout",
     "output_type": "stream",
     "text": [
      "Train on 17976 samples, validate on 4494 samples\n",
      "Epoch 1/10\n",
      "17976/17976 [==============================] - 4s 230us/step - loss: 1.1348 - accuracy: 0.5797 - val_loss: 0.9645 - val_accuracy: 0.7061\n",
      "Epoch 2/10\n",
      "17976/17976 [==============================] - 3s 174us/step - loss: 0.8835 - accuracy: 0.7190 - val_loss: 0.8018 - val_accuracy: 0.7468\n",
      "Epoch 3/10\n",
      "17976/17976 [==============================] - 3s 176us/step - loss: 0.7276 - accuracy: 0.7714 - val_loss: 0.7146 - val_accuracy: 0.7597\n",
      "Epoch 4/10\n",
      "17976/17976 [==============================] - 3s 179us/step - loss: 0.6162 - accuracy: 0.8055 - val_loss: 0.6779 - val_accuracy: 0.7615\n",
      "Epoch 5/10\n",
      "17976/17976 [==============================] - 3s 180us/step - loss: 0.5328 - accuracy: 0.8348 - val_loss: 0.6298 - val_accuracy: 0.7848\n",
      "Epoch 6/10\n",
      "17976/17976 [==============================] - 3s 182us/step - loss: 0.4646 - accuracy: 0.8590 - val_loss: 0.6131 - val_accuracy: 0.7897\n",
      "Epoch 7/10\n",
      "17976/17976 [==============================] - 3s 182us/step - loss: 0.4071 - accuracy: 0.8784 - val_loss: 0.6065 - val_accuracy: 0.7946\n",
      "Epoch 8/10\n",
      "17976/17976 [==============================] - 3s 185us/step - loss: 0.3592 - accuracy: 0.8951 - val_loss: 0.6072 - val_accuracy: 0.8026\n",
      "Epoch 9/10\n",
      "17976/17976 [==============================] - 3s 190us/step - loss: 0.3236 - accuracy: 0.9088 - val_loss: 0.5956 - val_accuracy: 0.8093\n",
      "Epoch 10/10\n",
      "17976/17976 [==============================] - 3s 188us/step - loss: 0.2919 - accuracy: 0.9187 - val_loss: 0.6134 - val_accuracy: 0.8024\n"
     ]
    },
    {
     "data": {
      "text/plain": [
       "<keras.callbacks.callbacks.History at 0x7ffc45f869d0>"
      ]
     },
     "execution_count": 14,
     "metadata": {},
     "output_type": "execute_result"
    }
   ],
   "source": [
    "y_train_cat = to_categorical(y_train)\n",
    "y_test_cat = to_categorical(y_test)\n",
    "\n",
    "model.fit(X_train, y_train_cat, \n",
    "          validation_data=(X_test, y_test_cat),\n",
    "          batch_size=32, epochs=10,\n",
    "         callbacks=[early_stopping])"
   ]
  },
  {
   "cell_type": "code",
   "execution_count": 15,
   "metadata": {},
   "outputs": [
    {
     "name": "stdout",
     "output_type": "stream",
     "text": [
      "4494/4494 [==============================] - 0s 51us/step\n",
      "Accuracy: 0.8024\n"
     ]
    }
   ],
   "source": [
    "evaluation = model.evaluate(X_test, y_test_cat)\n",
    "print('Accuracy: {:.4f}'.format(evaluation[1]))"
   ]
  },
  {
   "cell_type": "markdown",
   "metadata": {},
   "source": [
    "## Walklets Embedding and ML"
   ]
  },
  {
   "cell_type": "code",
   "execution_count": 16,
   "metadata": {},
   "outputs": [],
   "source": [
    "from karateclub import Walklets\n",
    "walklet_embedder = Walklets(dimensions=128)\n",
    "walklet_embedder.fit(graph)"
   ]
  },
  {
   "cell_type": "code",
   "execution_count": 17,
   "metadata": {},
   "outputs": [],
   "source": [
    "X = walklet_embedder.get_embedding()\n",
    "y = target\n",
    "X_train, X_test, y_train, y_test = train_test_split(X, y, test_size=0.2, random_state=42)"
   ]
  },
  {
   "cell_type": "markdown",
   "metadata": {},
   "source": [
    "### Logistic Regression"
   ]
  },
  {
   "cell_type": "code",
   "execution_count": 18,
   "metadata": {},
   "outputs": [
    {
     "name": "stderr",
     "output_type": "stream",
     "text": [
      "/Users/amol/opt/anaconda3/lib/python3.7/site-packages/sklearn/linear_model/_logistic.py:940: ConvergenceWarning: lbfgs failed to converge (status=1):\n",
      "STOP: TOTAL NO. of ITERATIONS REACHED LIMIT.\n",
      "\n",
      "Increase the number of iterations (max_iter) or scale the data as shown in:\n",
      "    https://scikit-learn.org/stable/modules/preprocessing.html\n",
      "Please also refer to the documentation for alternative solver options:\n",
      "    https://scikit-learn.org/stable/modules/linear_model.html#logistic-regression\n",
      "  extra_warning_msg=_LOGISTIC_SOLVER_CONVERGENCE_MSG)\n"
     ]
    },
    {
     "data": {
      "text/plain": [
       "LogisticRegression(C=1.0, class_weight=None, dual=False, fit_intercept=True,\n",
       "                   intercept_scaling=1, l1_ratio=None, max_iter=100,\n",
       "                   multi_class='auto', n_jobs=None, penalty='l2',\n",
       "                   random_state=None, solver='lbfgs', tol=0.0001, verbose=0,\n",
       "                   warm_start=False)"
      ]
     },
     "execution_count": 18,
     "metadata": {},
     "output_type": "execute_result"
    }
   ],
   "source": [
    "lr = LogisticRegression()\n",
    "lr.fit(X_train, y_train)"
   ]
  },
  {
   "cell_type": "code",
   "execution_count": 19,
   "metadata": {},
   "outputs": [
    {
     "name": "stdout",
     "output_type": "stream",
     "text": [
      "Accuracy: 0.9166\n",
      "              precision    recall  f1-score   support\n",
      "\n",
      "           0       0.91      0.92      0.91      1340\n",
      "           1       0.89      0.85      0.87       671\n",
      "           2       0.94      0.94      0.94      1125\n",
      "           3       0.92      0.93      0.92      1358\n",
      "\n",
      "    accuracy                           0.92      4494\n",
      "   macro avg       0.91      0.91      0.91      4494\n",
      "weighted avg       0.92      0.92      0.92      4494\n",
      "\n"
     ]
    }
   ],
   "source": [
    "y_pred = lr.predict(X_test)\n",
    "acc = accuracy_score(y_test, y_pred)\n",
    "print('Accuracy: {:.4f}'.format(acc))\n",
    "print(classification_report(y_test, y_pred))"
   ]
  },
  {
   "cell_type": "markdown",
   "metadata": {},
   "source": [
    "### Shallow Neural Network"
   ]
  },
  {
   "cell_type": "code",
   "execution_count": 20,
   "metadata": {},
   "outputs": [
    {
     "data": {
      "text/plain": [
       "MLPClassifier(activation='relu', alpha=0.0001, batch_size='auto', beta_1=0.9,\n",
       "              beta_2=0.999, early_stopping=False, epsilon=1e-08,\n",
       "              hidden_layer_sizes=(100, 100, 100), learning_rate='constant',\n",
       "              learning_rate_init=0.001, max_fun=15000, max_iter=200,\n",
       "              momentum=0.9, n_iter_no_change=10, nesterovs_momentum=True,\n",
       "              power_t=0.5, random_state=None, shuffle=True, solver='adam',\n",
       "              tol=0.0001, validation_fraction=0.1, verbose=False,\n",
       "              warm_start=False)"
      ]
     },
     "execution_count": 20,
     "metadata": {},
     "output_type": "execute_result"
    }
   ],
   "source": [
    "from sklearn.neural_network import MLPClassifier\n",
    "neural_net = MLPClassifier(hidden_layer_sizes=(100, 100, 100))\n",
    "neural_net.fit(X_train, y_train)"
   ]
  },
  {
   "cell_type": "code",
   "execution_count": 21,
   "metadata": {},
   "outputs": [
    {
     "name": "stdout",
     "output_type": "stream",
     "text": [
      "Accuracy: 0.9310\n",
      "              precision    recall  f1-score   support\n",
      "\n",
      "           0       0.90      0.95      0.93      1340\n",
      "           1       0.93      0.86      0.89       671\n",
      "           2       0.96      0.94      0.95      1125\n",
      "           3       0.94      0.94      0.94      1358\n",
      "\n",
      "    accuracy                           0.93      4494\n",
      "   macro avg       0.93      0.92      0.93      4494\n",
      "weighted avg       0.93      0.93      0.93      4494\n",
      "\n"
     ]
    }
   ],
   "source": [
    "y_pred = neural_net.predict(X_test)\n",
    "acc = accuracy_score(y_test, y_pred)\n",
    "print('Accuracy: {:.4f}'.format(acc))\n",
    "print(classification_report(y_test, y_pred))"
   ]
  },
  {
   "cell_type": "markdown",
   "metadata": {},
   "source": [
    "### Deep Neural Network with Keras"
   ]
  },
  {
   "cell_type": "code",
   "execution_count": 22,
   "metadata": {},
   "outputs": [],
   "source": [
    "model = Sequential()\n",
    "model.add(Dense(128))\n",
    "model.add(Dense(128, activation='relu'))\n",
    "model.add(Dense(128, activation='relu'))\n",
    "model.add(Dense(128, activation='relu'))\n",
    "model.add(Dense(4, activation='softmax'))\n",
    "\n",
    "model.compile(loss='categorical_crossentropy', optimizer='adam', metrics=['accuracy'])\n",
    "\n",
    "early_stopping = EarlyStopping(monitor=\"val_loss\",\n",
    "    patience=2,\n",
    "    verbose=2,\n",
    "    mode=\"min\")"
   ]
  },
  {
   "cell_type": "code",
   "execution_count": 23,
   "metadata": {},
   "outputs": [
    {
     "name": "stdout",
     "output_type": "stream",
     "text": [
      "Train on 17976 samples, validate on 4494 samples\n",
      "Epoch 1/10\n",
      "17976/17976 [==============================] - 4s 240us/step - loss: 0.3757 - accuracy: 0.8748 - val_loss: 0.2926 - val_accuracy: 0.9092\n",
      "Epoch 2/10\n",
      "17976/17976 [==============================] - 3s 190us/step - loss: 0.2689 - accuracy: 0.9105 - val_loss: 0.2766 - val_accuracy: 0.9097\n",
      "Epoch 3/10\n",
      "17976/17976 [==============================] - 3s 192us/step - loss: 0.2331 - accuracy: 0.9211 - val_loss: 0.2616 - val_accuracy: 0.9146\n",
      "Epoch 4/10\n",
      "17976/17976 [==============================] - 3s 192us/step - loss: 0.2123 - accuracy: 0.9300 - val_loss: 0.2381 - val_accuracy: 0.9221\n",
      "Epoch 5/10\n",
      "17976/17976 [==============================] - 3s 194us/step - loss: 0.1932 - accuracy: 0.9364 - val_loss: 0.2345 - val_accuracy: 0.9255\n",
      "Epoch 6/10\n",
      "17976/17976 [==============================] - 3s 193us/step - loss: 0.1850 - accuracy: 0.9375 - val_loss: 0.2342 - val_accuracy: 0.9275\n",
      "Epoch 7/10\n",
      "17976/17976 [==============================] - 3s 194us/step - loss: 0.1783 - accuracy: 0.9375 - val_loss: 0.2160 - val_accuracy: 0.9346\n",
      "Epoch 8/10\n",
      "17976/17976 [==============================] - 3s 193us/step - loss: 0.1602 - accuracy: 0.9439 - val_loss: 0.2459 - val_accuracy: 0.9268\n",
      "Epoch 9/10\n",
      "17976/17976 [==============================] - 3s 193us/step - loss: 0.1521 - accuracy: 0.9472 - val_loss: 0.2269 - val_accuracy: 0.9324\n",
      "Epoch 00009: early stopping\n"
     ]
    },
    {
     "data": {
      "text/plain": [
       "<keras.callbacks.callbacks.History at 0x7ffc0f000d50>"
      ]
     },
     "execution_count": 23,
     "metadata": {},
     "output_type": "execute_result"
    }
   ],
   "source": [
    "y_train_cat = to_categorical(y_train)\n",
    "y_test_cat = to_categorical(y_test)\n",
    "\n",
    "model.fit(X_train, y_train_cat, \n",
    "          validation_data=(X_test, y_test_cat),\n",
    "          batch_size=32, epochs=10,\n",
    "         callbacks=[early_stopping])"
   ]
  },
  {
   "cell_type": "code",
   "execution_count": 24,
   "metadata": {},
   "outputs": [
    {
     "name": "stdout",
     "output_type": "stream",
     "text": [
      "4494/4494 [==============================] - 0s 48us/step\n",
      "Accuracy: 0.9324\n"
     ]
    }
   ],
   "source": [
    "evaluation = model.evaluate(X_test, y_test_cat)\n",
    "print('Accuracy: {:.4f}'.format(evaluation[1]))"
   ]
  },
  {
   "cell_type": "code",
   "execution_count": 25,
   "metadata": {},
   "outputs": [
    {
     "data": {
      "text/plain": [
       "True"
      ]
     },
     "execution_count": 25,
     "metadata": {},
     "output_type": "execute_result"
    }
   ],
   "source": [
    "type(model) == keras.engine.sequential.Sequential"
   ]
  },
  {
   "cell_type": "code",
   "execution_count": 26,
   "metadata": {},
   "outputs": [
    {
     "data": {
      "text/plain": [
       "4"
      ]
     },
     "execution_count": 26,
     "metadata": {},
     "output_type": "execute_result"
    }
   ],
   "source": [
    "y_test_cat.shape[1]"
   ]
  },
  {
   "cell_type": "markdown",
   "metadata": {},
   "source": [
    "## Hyperparameter Tuning"
   ]
  },
  {
   "cell_type": "code",
   "execution_count": 27,
   "metadata": {},
   "outputs": [],
   "source": [
    "def build_keras_neural_net(embedding_dimensions, n_classes):\n",
    "    \n",
    "    model = Sequential()\n",
    "    model.add(Dense(embedding_dimensions))\n",
    "    model.add(Dense(embedding_dimensions, activation='relu'))\n",
    "    model.add(Dense(embedding_dimensions, activation='relu'))\n",
    "    model.add(Dense(embedding_dimensions, activation='relu'))\n",
    "    model.add(Dense(n_classes, activation='softmax'))\n",
    "\n",
    "    model.compile(loss='categorical_crossentropy', optimizer='adam', metrics=['accuracy'])\n",
    "    \n",
    "    return model"
   ]
  },
  {
   "cell_type": "code",
   "execution_count": 28,
   "metadata": {},
   "outputs": [],
   "source": [
    "def evaluate_graph_model(ml_model, walk_length, embedding_dimensions, graph, target):\n",
    "    \n",
    "    embedding_model = Walklets(walk_length = walk_length, dimensions = embedding_dimensions)\n",
    "    embedding_model.fit(graph)\n",
    "    X = embedding_model.get_embedding()\n",
    "    y = target\n",
    "    \n",
    "    X_train, X_test, y_train, y_test = train_test_split(X, y, test_size=0.2, random_state=42)\n",
    "    \n",
    "    if ml_model == 'neural network':\n",
    "        \n",
    "        y_train_cat = to_categorical(y_train)\n",
    "        y_test_cat = to_categorical(y_test)\n",
    "        n_classes = y_test_cat.shape[1]\n",
    "        ml_model = build_keras_neural_net(embedding_dimensions, n_classes)\n",
    "        \n",
    "        early_stopping = EarlyStopping(monitor=\"val_loss\", patience=2, verbose=2, mode=\"min\")\n",
    "        \n",
    "        ml_model.fit(X_train, y_train_cat, \n",
    "          validation_data=(X_test, y_test_cat),\n",
    "          batch_size=32, epochs=10,\n",
    "         callbacks=[early_stopping])\n",
    "        \n",
    "        score = ml_model.evaluate(X_test, y_test_cat)\n",
    "        \n",
    "        return score\n",
    "    \n",
    "    else:\n",
    "        \n",
    "        ml_model.fit(X_train, y_train)\n",
    "        y_pred = neural_net.predict(X_test)\n",
    "        acc = accuracy_score(y_test, y_pred)\n",
    "        return acc\n",
    "\n",
    "def grid_search(ml_model, param_grid, graph, target):\n",
    "    \n",
    "    walk_lengths = param_grid['walk_length']\n",
    "    embedding_dimension_vals = param_grid['embedding_dimensions']\n",
    "    \n",
    "    rows = []\n",
    "    \n",
    "    n = len(walk_lengths) * len(embedding_dimension_vals)\n",
    "    pbar = ProgBar(n, track_time=True, monitor=True)\n",
    "    \n",
    "    for walk_length in walk_lengths:\n",
    "        for embedding_dimensions in embedding_dimension_vals:\n",
    "            score = evaluate_graph_model(ml_model, walk_length, embedding_dimensions, graph, target)\n",
    "            data_dict = {'walk_length': walk_length, \n",
    "                         'embedding_dimensions': embedding_dimensions, \n",
    "                         'accuracy': score[1]}\n",
    "            \n",
    "            rows.append(data_dict)\n",
    "            pbar.update()\n",
    "            \n",
    "    print(pbar)\n",
    "    return pd.DataFrame(rows) "
   ]
  },
  {
   "cell_type": "code",
   "execution_count": 29,
   "metadata": {},
   "outputs": [
    {
     "name": "stdout",
     "output_type": "stream",
     "text": [
      "Train on 17976 samples, validate on 4494 samples\n",
      "Epoch 1/10\n",
      "17976/17976 [==============================] - 3s 180us/step - loss: 0.4272 - accuracy: 0.8587 - val_loss: 0.3085 - val_accuracy: 0.8972\n",
      "Epoch 2/10\n",
      "17976/17976 [==============================] - 2s 134us/step - loss: 0.3040 - accuracy: 0.8975 - val_loss: 0.3044 - val_accuracy: 0.9012\n",
      "Epoch 3/10\n",
      "17976/17976 [==============================] - 2s 138us/step - loss: 0.2684 - accuracy: 0.9102 - val_loss: 0.2649 - val_accuracy: 0.9083\n",
      "Epoch 4/10\n",
      "17976/17976 [==============================] - 2s 139us/step - loss: 0.2454 - accuracy: 0.9155 - val_loss: 0.2805 - val_accuracy: 0.9023\n",
      "Epoch 5/10\n",
      "17976/17976 [==============================] - 3s 142us/step - loss: 0.2301 - accuracy: 0.9215 - val_loss: 0.2544 - val_accuracy: 0.9139\n",
      "Epoch 6/10\n",
      "17976/17976 [==============================] - 3s 142us/step - loss: 0.2121 - accuracy: 0.9281 - val_loss: 0.2434 - val_accuracy: 0.9215\n",
      "Epoch 7/10\n",
      "17976/17976 [==============================] - 3s 142us/step - loss: 0.2055 - accuracy: 0.9303 - val_loss: 0.2457 - val_accuracy: 0.9188\n",
      "Epoch 8/10\n",
      "17976/17976 [==============================] - 3s 144us/step - loss: 0.1933 - accuracy: 0.9332 - val_loss: 0.2596 - val_accuracy: 0.9161\n",
      "Epoch 00008: early stopping\n",
      "4494/4494 [==============================] - 0s 46us/step\n",
      "Train on 17976 samples, validate on 4494 samples\n",
      "Epoch 1/10\n",
      "17976/17976 [==============================] - 4s 198us/step - loss: 0.4290 - accuracy: 0.8578 - val_loss: 0.3181 - val_accuracy: 0.8959\n",
      "Epoch 2/10\n",
      "17976/17976 [==============================] - 3s 152us/step - loss: 0.3010 - accuracy: 0.8988 - val_loss: 0.3042 - val_accuracy: 0.9023\n",
      "Epoch 3/10\n",
      "17976/17976 [==============================] - 3s 154us/step - loss: 0.2679 - accuracy: 0.9095 - val_loss: 0.2718 - val_accuracy: 0.9059\n",
      "Epoch 4/10\n",
      "17976/17976 [==============================] - 3s 156us/step - loss: 0.2486 - accuracy: 0.9147 - val_loss: 0.2918 - val_accuracy: 0.8999\n",
      "Epoch 5/10\n",
      "17976/17976 [==============================] - 3s 158us/step - loss: 0.2268 - accuracy: 0.9213 - val_loss: 0.2578 - val_accuracy: 0.9121\n",
      "Epoch 6/10\n",
      "17976/17976 [==============================] - 3s 159us/step - loss: 0.2124 - accuracy: 0.9260 - val_loss: 0.2751 - val_accuracy: 0.9090\n",
      "Epoch 7/10\n",
      "17976/17976 [==============================] - 3s 159us/step - loss: 0.2031 - accuracy: 0.9276 - val_loss: 0.2448 - val_accuracy: 0.9190\n",
      "Epoch 8/10\n",
      "17976/17976 [==============================] - 3s 160us/step - loss: 0.1916 - accuracy: 0.9341 - val_loss: 0.2362 - val_accuracy: 0.9217\n",
      "Epoch 9/10\n",
      "17976/17976 [==============================] - 3s 160us/step - loss: 0.1806 - accuracy: 0.9373 - val_loss: 0.2495 - val_accuracy: 0.9208\n",
      "Epoch 10/10\n",
      "17976/17976 [==============================] - 3s 160us/step - loss: 0.1771 - accuracy: 0.9381 - val_loss: 0.2570 - val_accuracy: 0.9190\n",
      "Epoch 00010: early stopping\n",
      "4494/4494 [==============================] - 0s 45us/step\n"
     ]
    },
    {
     "name": "stderr",
     "output_type": "stream",
     "text": [
      "\r",
      "0% [#                             ] 100% | ETA: 01:45:03"
     ]
    },
    {
     "name": "stdout",
     "output_type": "stream",
     "text": [
      "Train on 17976 samples, validate on 4494 samples\n",
      "Epoch 1/10\n",
      "17976/17976 [==============================] - 4s 207us/step - loss: 0.4265 - accuracy: 0.8583 - val_loss: 0.3135 - val_accuracy: 0.8934\n",
      "Epoch 2/10\n",
      "17976/17976 [==============================] - 3s 158us/step - loss: 0.2996 - accuracy: 0.8985 - val_loss: 0.3037 - val_accuracy: 0.9043\n",
      "Epoch 3/10\n",
      "17976/17976 [==============================] - 3s 160us/step - loss: 0.2673 - accuracy: 0.9093 - val_loss: 0.2657 - val_accuracy: 0.9101\n",
      "Epoch 4/10\n",
      "17976/17976 [==============================] - 3s 164us/step - loss: 0.2445 - accuracy: 0.9182 - val_loss: 0.2768 - val_accuracy: 0.9041\n",
      "Epoch 5/10\n",
      "17976/17976 [==============================] - 3s 164us/step - loss: 0.2270 - accuracy: 0.9227 - val_loss: 0.2601 - val_accuracy: 0.9121\n",
      "Epoch 6/10\n",
      "17976/17976 [==============================] - 3s 168us/step - loss: 0.2125 - accuracy: 0.9265 - val_loss: 0.2712 - val_accuracy: 0.9085\n",
      "Epoch 7/10\n",
      "17976/17976 [==============================] - 3s 167us/step - loss: 0.2011 - accuracy: 0.9300 - val_loss: 0.2416 - val_accuracy: 0.9181\n",
      "Epoch 8/10\n",
      "17976/17976 [==============================] - 3s 166us/step - loss: 0.1907 - accuracy: 0.9334 - val_loss: 0.2500 - val_accuracy: 0.9210\n",
      "Epoch 9/10\n",
      "17976/17976 [==============================] - 3s 168us/step - loss: 0.1845 - accuracy: 0.9356 - val_loss: 0.2387 - val_accuracy: 0.9243\n",
      "Epoch 10/10\n",
      "17976/17976 [==============================] - 3s 168us/step - loss: 0.1741 - accuracy: 0.9384 - val_loss: 0.2494 - val_accuracy: 0.9228\n",
      "4494/4494 [==============================] - 0s 46us/step\n"
     ]
    },
    {
     "name": "stderr",
     "output_type": "stream",
     "text": [
      "\r",
      "0% [##                            ] 100% | ETA: 01:44:15"
     ]
    },
    {
     "name": "stdout",
     "output_type": "stream",
     "text": [
      "Train on 17976 samples, validate on 4494 samples\n",
      "Epoch 1/10\n",
      "17976/17976 [==============================] - 4s 221us/step - loss: 0.4231 - accuracy: 0.8603 - val_loss: 0.3264 - val_accuracy: 0.8872\n",
      "Epoch 2/10\n",
      "17976/17976 [==============================] - 3s 174us/step - loss: 0.3029 - accuracy: 0.8982 - val_loss: 0.2994 - val_accuracy: 0.9083\n",
      "Epoch 3/10\n",
      "17976/17976 [==============================] - 3s 181us/step - loss: 0.2697 - accuracy: 0.9094 - val_loss: 0.2661 - val_accuracy: 0.9110\n",
      "Epoch 4/10\n",
      "17976/17976 [==============================] - 3s 181us/step - loss: 0.2462 - accuracy: 0.9168 - val_loss: 0.3245 - val_accuracy: 0.8832\n",
      "Epoch 5/10\n",
      "17976/17976 [==============================] - 3s 184us/step - loss: 0.2289 - accuracy: 0.9217 - val_loss: 0.2499 - val_accuracy: 0.9159\n",
      "Epoch 6/10\n",
      "17976/17976 [==============================] - 3s 186us/step - loss: 0.2156 - accuracy: 0.9250 - val_loss: 0.2777 - val_accuracy: 0.9068\n",
      "Epoch 7/10\n",
      "17976/17976 [==============================] - 3s 186us/step - loss: 0.2093 - accuracy: 0.9278 - val_loss: 0.2335 - val_accuracy: 0.9208\n",
      "Epoch 8/10\n",
      "17976/17976 [==============================] - 3s 187us/step - loss: 0.1937 - accuracy: 0.9327 - val_loss: 0.2441 - val_accuracy: 0.9208\n",
      "Epoch 9/10\n",
      "17976/17976 [==============================] - 3s 187us/step - loss: 0.1853 - accuracy: 0.9349 - val_loss: 0.2322 - val_accuracy: 0.9263\n",
      "Epoch 10/10\n",
      "17976/17976 [==============================] - 3s 186us/step - loss: 0.1755 - accuracy: 0.9388 - val_loss: 0.2443 - val_accuracy: 0.9221\n",
      "4494/4494 [==============================] - 0s 44us/step\n",
      "Train on 17976 samples, validate on 4494 samples\n",
      "Epoch 1/10\n",
      "17976/17976 [==============================] - 5s 282us/step - loss: 0.4251 - accuracy: 0.8576 - val_loss: 0.3179 - val_accuracy: 0.8923\n",
      "Epoch 2/10\n",
      "17976/17976 [==============================] - 4s 200us/step - loss: 0.3009 - accuracy: 0.8991 - val_loss: 0.3095 - val_accuracy: 0.8990\n",
      "Epoch 3/10\n",
      "17976/17976 [==============================] - 4s 203us/step - loss: 0.2668 - accuracy: 0.9111 - val_loss: 0.2781 - val_accuracy: 0.9005\n",
      "Epoch 4/10\n",
      "17976/17976 [==============================] - 4s 207us/step - loss: 0.2429 - accuracy: 0.9189 - val_loss: 0.2989 - val_accuracy: 0.8979\n",
      "Epoch 5/10\n",
      "17976/17976 [==============================] - 4s 217us/step - loss: 0.2268 - accuracy: 0.9218 - val_loss: 0.2542 - val_accuracy: 0.9134\n",
      "Epoch 6/10\n",
      "17976/17976 [==============================] - 4s 211us/step - loss: 0.2118 - accuracy: 0.9266 - val_loss: 0.2536 - val_accuracy: 0.9190\n",
      "Epoch 7/10\n",
      "17976/17976 [==============================] - 4s 212us/step - loss: 0.2053 - accuracy: 0.9296 - val_loss: 0.2407 - val_accuracy: 0.9239\n",
      "Epoch 8/10\n",
      "17976/17976 [==============================] - 4s 213us/step - loss: 0.1933 - accuracy: 0.9337 - val_loss: 0.2595 - val_accuracy: 0.9159\n",
      "Epoch 9/10\n",
      "17976/17976 [==============================] - 4s 218us/step - loss: 0.1833 - accuracy: 0.9350 - val_loss: 0.2529 - val_accuracy: 0.9239\n",
      "Epoch 00009: early stopping\n",
      "4494/4494 [==============================] - 0s 51us/step\n"
     ]
    },
    {
     "name": "stderr",
     "output_type": "stream",
     "text": [
      "\r",
      "0% [###                           ] 100% | ETA: 01:45:47"
     ]
    },
    {
     "name": "stdout",
     "output_type": "stream",
     "text": [
      "Train on 17976 samples, validate on 4494 samples\n",
      "Epoch 1/10\n",
      "17976/17976 [==============================] - 5s 281us/step - loss: 0.4222 - accuracy: 0.8596 - val_loss: 0.3287 - val_accuracy: 0.8923\n",
      "Epoch 2/10\n",
      "17976/17976 [==============================] - 4s 205us/step - loss: 0.2983 - accuracy: 0.8997 - val_loss: 0.3179 - val_accuracy: 0.8941\n",
      "Epoch 3/10\n",
      "17976/17976 [==============================] - 4s 211us/step - loss: 0.2708 - accuracy: 0.9080 - val_loss: 0.2769 - val_accuracy: 0.9077\n",
      "Epoch 4/10\n",
      "17976/17976 [==============================] - 4s 213us/step - loss: 0.2442 - accuracy: 0.9159 - val_loss: 0.2801 - val_accuracy: 0.9050\n",
      "Epoch 5/10\n",
      "17976/17976 [==============================] - 4s 212us/step - loss: 0.2288 - accuracy: 0.9211 - val_loss: 0.2403 - val_accuracy: 0.9226\n",
      "Epoch 6/10\n",
      "17976/17976 [==============================] - 4s 216us/step - loss: 0.2155 - accuracy: 0.9253 - val_loss: 0.2638 - val_accuracy: 0.9161\n",
      "Epoch 7/10\n",
      "17976/17976 [==============================] - 4s 215us/step - loss: 0.2068 - accuracy: 0.9290 - val_loss: 0.2379 - val_accuracy: 0.9263\n",
      "Epoch 8/10\n",
      "17976/17976 [==============================] - 4s 217us/step - loss: 0.1942 - accuracy: 0.9330 - val_loss: 0.2265 - val_accuracy: 0.9281\n",
      "Epoch 9/10\n",
      "17976/17976 [==============================] - 4s 215us/step - loss: 0.1838 - accuracy: 0.9345 - val_loss: 0.2442 - val_accuracy: 0.9223\n",
      "Epoch 10/10\n",
      "17976/17976 [==============================] - 4s 216us/step - loss: 0.1776 - accuracy: 0.9374 - val_loss: 0.2509 - val_accuracy: 0.9217\n",
      "Epoch 00010: early stopping\n",
      "4494/4494 [==============================] - 0s 51us/step\n",
      "Train on 17976 samples, validate on 4494 samples\n",
      "Epoch 1/10\n",
      "17976/17976 [==============================] - 5s 293us/step - loss: 0.4219 - accuracy: 0.8624 - val_loss: 0.3378 - val_accuracy: 0.8858\n",
      "Epoch 2/10\n",
      "17976/17976 [==============================] - 4s 217us/step - loss: 0.3022 - accuracy: 0.8973 - val_loss: 0.3079 - val_accuracy: 0.9014\n",
      "Epoch 3/10\n",
      "17976/17976 [==============================] - 4s 222us/step - loss: 0.2705 - accuracy: 0.9090 - val_loss: 0.2801 - val_accuracy: 0.9034\n",
      "Epoch 4/10\n",
      "17976/17976 [==============================] - 4s 224us/step - loss: 0.2460 - accuracy: 0.9161 - val_loss: 0.3126 - val_accuracy: 0.8981\n",
      "Epoch 5/10\n",
      "17976/17976 [==============================] - 4s 225us/step - loss: 0.2349 - accuracy: 0.9185 - val_loss: 0.2412 - val_accuracy: 0.9194\n",
      "Epoch 6/10\n",
      "17976/17976 [==============================] - 4s 227us/step - loss: 0.2156 - accuracy: 0.9246 - val_loss: 0.2589 - val_accuracy: 0.9141\n",
      "Epoch 7/10\n",
      "17976/17976 [==============================] - 4s 227us/step - loss: 0.2086 - accuracy: 0.9277 - val_loss: 0.2441 - val_accuracy: 0.9201\n",
      "Epoch 00007: early stopping\n",
      "4494/4494 [==============================] - 0s 51us/step\n"
     ]
    },
    {
     "name": "stderr",
     "output_type": "stream",
     "text": [
      "\r",
      "0% [####                          ] 100% | ETA: 01:48:26"
     ]
    },
    {
     "name": "stdout",
     "output_type": "stream",
     "text": [
      "Train on 17976 samples, validate on 4494 samples\n",
      "Epoch 1/10\n",
      "17976/17976 [==============================] - 6s 310us/step - loss: 0.4208 - accuracy: 0.8609 - val_loss: 0.3591 - val_accuracy: 0.8769\n",
      "Epoch 2/10\n",
      "17976/17976 [==============================] - 4s 237us/step - loss: 0.3049 - accuracy: 0.8966 - val_loss: 0.3091 - val_accuracy: 0.8994\n",
      "Epoch 3/10\n",
      "17976/17976 [==============================] - 5s 271us/step - loss: 0.2734 - accuracy: 0.9090 - val_loss: 0.2730 - val_accuracy: 0.9081\n",
      "Epoch 4/10\n",
      "17976/17976 [==============================] - 5s 251us/step - loss: 0.2465 - accuracy: 0.9176 - val_loss: 0.2948 - val_accuracy: 0.8947\n",
      "Epoch 5/10\n",
      "17976/17976 [==============================] - 4s 249us/step - loss: 0.2273 - accuracy: 0.9215 - val_loss: 0.2508 - val_accuracy: 0.9168\n",
      "Epoch 6/10\n",
      "17976/17976 [==============================] - 5s 253us/step - loss: 0.2154 - accuracy: 0.9255 - val_loss: 0.2708 - val_accuracy: 0.9072\n",
      "Epoch 7/10\n",
      "17976/17976 [==============================] - 5s 255us/step - loss: 0.2106 - accuracy: 0.9268 - val_loss: 0.2379 - val_accuracy: 0.9237\n",
      "Epoch 8/10\n",
      "17976/17976 [==============================] - 5s 257us/step - loss: 0.1970 - accuracy: 0.9312 - val_loss: 0.2442 - val_accuracy: 0.9217\n",
      "Epoch 9/10\n",
      "17976/17976 [==============================] - 5s 252us/step - loss: 0.1861 - accuracy: 0.9342 - val_loss: 0.2360 - val_accuracy: 0.9237\n",
      "Epoch 10/10\n",
      "17976/17976 [==============================] - 5s 251us/step - loss: 0.1843 - accuracy: 0.9352 - val_loss: 0.2340 - val_accuracy: 0.9215\n",
      "4494/4494 [==============================] - 0s 54us/step\n"
     ]
    },
    {
     "name": "stderr",
     "output_type": "stream",
     "text": [
      "\r",
      "0% [#####                         ] 100% | ETA: 01:48:57"
     ]
    },
    {
     "name": "stdout",
     "output_type": "stream",
     "text": [
      "Train on 17976 samples, validate on 4494 samples\n",
      "Epoch 1/10\n",
      "17976/17976 [==============================] - 6s 311us/step - loss: 0.4265 - accuracy: 0.8581 - val_loss: 0.3346 - val_accuracy: 0.8923\n",
      "Epoch 2/10\n",
      "17976/17976 [==============================] - 4s 233us/step - loss: 0.3033 - accuracy: 0.8983 - val_loss: 0.3077 - val_accuracy: 0.8983\n",
      "Epoch 3/10\n",
      "17976/17976 [==============================] - 4s 239us/step - loss: 0.2731 - accuracy: 0.9091 - val_loss: 0.2738 - val_accuracy: 0.9085\n",
      "Epoch 4/10\n",
      "17976/17976 [==============================] - 4s 242us/step - loss: 0.2453 - accuracy: 0.9194 - val_loss: 0.3186 - val_accuracy: 0.8899\n",
      "Epoch 5/10\n",
      "17976/17976 [==============================] - 4s 245us/step - loss: 0.2332 - accuracy: 0.9196 - val_loss: 0.2366 - val_accuracy: 0.9199\n",
      "Epoch 6/10\n",
      "17976/17976 [==============================] - 4s 246us/step - loss: 0.2157 - accuracy: 0.9256 - val_loss: 0.2811 - val_accuracy: 0.9088\n",
      "Epoch 7/10\n",
      "17976/17976 [==============================] - 4s 247us/step - loss: 0.2110 - accuracy: 0.9281 - val_loss: 0.2392 - val_accuracy: 0.9215\n",
      "Epoch 00007: early stopping\n",
      "4494/4494 [==============================] - 0s 53us/step\n"
     ]
    },
    {
     "name": "stderr",
     "output_type": "stream",
     "text": [
      "\r",
      "0% [######                        ] 100% | ETA: 01:47:50"
     ]
    },
    {
     "name": "stdout",
     "output_type": "stream",
     "text": [
      "Train on 17976 samples, validate on 4494 samples\n",
      "Epoch 1/10\n",
      "17976/17976 [==============================] - 4s 231us/step - loss: 0.4292 - accuracy: 0.8559 - val_loss: 0.3056 - val_accuracy: 0.9023\n",
      "Epoch 2/10\n",
      "17976/17976 [==============================] - 3s 152us/step - loss: 0.2938 - accuracy: 0.9019 - val_loss: 0.2900 - val_accuracy: 0.9057\n",
      "Epoch 3/10\n",
      "17976/17976 [==============================] - 3s 152us/step - loss: 0.2571 - accuracy: 0.9143 - val_loss: 0.2511 - val_accuracy: 0.9188\n",
      "Epoch 4/10\n",
      "17976/17976 [==============================] - 3s 154us/step - loss: 0.2394 - accuracy: 0.9187 - val_loss: 0.2709 - val_accuracy: 0.9072\n",
      "Epoch 5/10\n",
      "17976/17976 [==============================] - 3s 156us/step - loss: 0.2173 - accuracy: 0.9252 - val_loss: 0.2365 - val_accuracy: 0.9210\n",
      "Epoch 6/10\n",
      "17976/17976 [==============================] - 3s 157us/step - loss: 0.2037 - accuracy: 0.9311 - val_loss: 0.2399 - val_accuracy: 0.9248\n",
      "Epoch 7/10\n",
      "17976/17976 [==============================] - 3s 158us/step - loss: 0.1938 - accuracy: 0.9335 - val_loss: 0.2312 - val_accuracy: 0.9257\n",
      "Epoch 8/10\n",
      "17976/17976 [==============================] - 3s 159us/step - loss: 0.1833 - accuracy: 0.9366 - val_loss: 0.2261 - val_accuracy: 0.9266\n",
      "Epoch 9/10\n",
      "17976/17976 [==============================] - 3s 159us/step - loss: 0.1774 - accuracy: 0.9389 - val_loss: 0.2304 - val_accuracy: 0.9270\n",
      "Epoch 10/10\n",
      "17976/17976 [==============================] - 3s 159us/step - loss: 0.1652 - accuracy: 0.9421 - val_loss: 0.2486 - val_accuracy: 0.9190\n",
      "Epoch 00010: early stopping\n",
      "4494/4494 [==============================] - 0s 47us/step\n",
      "Train on 17976 samples, validate on 4494 samples\n",
      "Epoch 1/10\n",
      "17976/17976 [==============================] - 4s 240us/step - loss: 0.4164 - accuracy: 0.8620 - val_loss: 0.3045 - val_accuracy: 0.9021\n",
      "Epoch 2/10\n",
      "17976/17976 [==============================] - 3s 162us/step - loss: 0.2951 - accuracy: 0.9011 - val_loss: 0.2843 - val_accuracy: 0.9072\n",
      "Epoch 3/10\n",
      "17976/17976 [==============================] - 3s 163us/step - loss: 0.2597 - accuracy: 0.9154 - val_loss: 0.2518 - val_accuracy: 0.9183\n",
      "Epoch 4/10\n",
      "17976/17976 [==============================] - 3s 163us/step - loss: 0.2356 - accuracy: 0.9190 - val_loss: 0.2691 - val_accuracy: 0.9085\n",
      "Epoch 5/10\n",
      "17976/17976 [==============================] - 3s 166us/step - loss: 0.2195 - accuracy: 0.9243 - val_loss: 0.2488 - val_accuracy: 0.9168\n",
      "Epoch 6/10\n",
      "17976/17976 [==============================] - 3s 167us/step - loss: 0.2057 - accuracy: 0.9298 - val_loss: 0.2638 - val_accuracy: 0.9143\n",
      "Epoch 7/10\n",
      "17976/17976 [==============================] - 3s 168us/step - loss: 0.1962 - accuracy: 0.9330 - val_loss: 0.2280 - val_accuracy: 0.9241\n",
      "Epoch 8/10\n",
      "17976/17976 [==============================] - 3s 167us/step - loss: 0.1834 - accuracy: 0.9365 - val_loss: 0.2302 - val_accuracy: 0.9295\n",
      "Epoch 9/10\n",
      "17976/17976 [==============================] - 3s 168us/step - loss: 0.1771 - accuracy: 0.9389 - val_loss: 0.2251 - val_accuracy: 0.9275\n",
      "Epoch 10/10\n",
      "17976/17976 [==============================] - 3s 169us/step - loss: 0.1692 - accuracy: 0.9388 - val_loss: 0.2498 - val_accuracy: 0.9235\n",
      "4494/4494 [==============================] - 0s 49us/step\n"
     ]
    },
    {
     "name": "stderr",
     "output_type": "stream",
     "text": [
      "\r",
      "0% [#######                       ] 100% | ETA: 01:47:01"
     ]
    },
    {
     "name": "stdout",
     "output_type": "stream",
     "text": [
      "Train on 17976 samples, validate on 4494 samples\n",
      "Epoch 1/10\n",
      "17976/17976 [==============================] - 4s 248us/step - loss: 0.4110 - accuracy: 0.8644 - val_loss: 0.2966 - val_accuracy: 0.9048\n",
      "Epoch 2/10\n",
      "17976/17976 [==============================] - 3s 168us/step - loss: 0.2885 - accuracy: 0.9028 - val_loss: 0.2751 - val_accuracy: 0.9083\n",
      "Epoch 3/10\n",
      "17976/17976 [==============================] - 3s 172us/step - loss: 0.2536 - accuracy: 0.9169 - val_loss: 0.2556 - val_accuracy: 0.9159\n",
      "Epoch 4/10\n",
      "17976/17976 [==============================] - 3s 177us/step - loss: 0.2346 - accuracy: 0.9202 - val_loss: 0.2782 - val_accuracy: 0.9068\n",
      "Epoch 5/10\n",
      "17976/17976 [==============================] - 3s 179us/step - loss: 0.2168 - accuracy: 0.9242 - val_loss: 0.2381 - val_accuracy: 0.9203\n",
      "Epoch 6/10\n",
      "17976/17976 [==============================] - 3s 177us/step - loss: 0.2003 - accuracy: 0.9299 - val_loss: 0.2387 - val_accuracy: 0.9270\n",
      "Epoch 7/10\n",
      "17976/17976 [==============================] - 3s 180us/step - loss: 0.1928 - accuracy: 0.9319 - val_loss: 0.2357 - val_accuracy: 0.9243\n",
      "Epoch 8/10\n",
      "17976/17976 [==============================] - 3s 180us/step - loss: 0.1826 - accuracy: 0.9370 - val_loss: 0.2342 - val_accuracy: 0.9230\n",
      "Epoch 9/10\n",
      "17976/17976 [==============================] - 3s 181us/step - loss: 0.1728 - accuracy: 0.9386 - val_loss: 0.2240 - val_accuracy: 0.9299\n",
      "Epoch 10/10\n",
      "17976/17976 [==============================] - 3s 180us/step - loss: 0.1636 - accuracy: 0.9423 - val_loss: 0.2381 - val_accuracy: 0.9272\n",
      "4494/4494 [==============================] - 0s 48us/step\n"
     ]
    },
    {
     "name": "stderr",
     "output_type": "stream",
     "text": [
      "\r",
      "0% [########                      ] 100% | ETA: 01:45:59"
     ]
    },
    {
     "name": "stdout",
     "output_type": "stream",
     "text": [
      "Train on 17976 samples, validate on 4494 samples\n",
      "Epoch 1/10\n",
      "17976/17976 [==============================] - 5s 268us/step - loss: 0.4063 - accuracy: 0.8645 - val_loss: 0.2970 - val_accuracy: 0.9023\n",
      "Epoch 2/10\n",
      "17976/17976 [==============================] - 3s 188us/step - loss: 0.2891 - accuracy: 0.9034 - val_loss: 0.2814 - val_accuracy: 0.9074\n",
      "Epoch 3/10\n",
      "17976/17976 [==============================] - 3s 193us/step - loss: 0.2545 - accuracy: 0.9156 - val_loss: 0.2415 - val_accuracy: 0.9194\n",
      "Epoch 4/10\n",
      "17976/17976 [==============================] - 4s 196us/step - loss: 0.2318 - accuracy: 0.9213 - val_loss: 0.2639 - val_accuracy: 0.9132\n",
      "Epoch 5/10\n",
      "17976/17976 [==============================] - 4s 200us/step - loss: 0.2116 - accuracy: 0.9256 - val_loss: 0.2389 - val_accuracy: 0.9208\n",
      "Epoch 6/10\n",
      "17976/17976 [==============================] - 4s 201us/step - loss: 0.2008 - accuracy: 0.9309 - val_loss: 0.2454 - val_accuracy: 0.9243\n",
      "Epoch 7/10\n",
      "17976/17976 [==============================] - 4s 199us/step - loss: 0.1937 - accuracy: 0.9326 - val_loss: 0.2236 - val_accuracy: 0.9235\n",
      "Epoch 8/10\n",
      "17976/17976 [==============================] - 4s 202us/step - loss: 0.1799 - accuracy: 0.9369 - val_loss: 0.2241 - val_accuracy: 0.9257\n",
      "Epoch 9/10\n",
      "17976/17976 [==============================] - 4s 200us/step - loss: 0.1725 - accuracy: 0.9390 - val_loss: 0.2278 - val_accuracy: 0.9279\n",
      "Epoch 00009: early stopping\n",
      "4494/4494 [==============================] - 0s 51us/step\n",
      "Train on 17976 samples, validate on 4494 samples\n",
      "Epoch 1/10\n",
      "17976/17976 [==============================] - 5s 259us/step - loss: 0.4000 - accuracy: 0.8648 - val_loss: 0.2975 - val_accuracy: 0.9057\n",
      "Epoch 2/10\n",
      "17976/17976 [==============================] - 4s 226us/step - loss: 0.2859 - accuracy: 0.9030 - val_loss: 0.2894 - val_accuracy: 0.9003\n",
      "Epoch 3/10\n",
      "17976/17976 [==============================] - 4s 217us/step - loss: 0.2480 - accuracy: 0.9158 - val_loss: 0.2466 - val_accuracy: 0.9181\n",
      "Epoch 4/10\n",
      "17976/17976 [==============================] - 4s 210us/step - loss: 0.2296 - accuracy: 0.9212 - val_loss: 0.2563 - val_accuracy: 0.9150\n",
      "Epoch 5/10\n",
      "17976/17976 [==============================] - 4s 209us/step - loss: 0.2122 - accuracy: 0.9254 - val_loss: 0.2324 - val_accuracy: 0.9228\n",
      "Epoch 6/10\n",
      "17976/17976 [==============================] - 4s 216us/step - loss: 0.1993 - accuracy: 0.9299 - val_loss: 0.2468 - val_accuracy: 0.9232\n",
      "Epoch 7/10\n",
      "17976/17976 [==============================] - 4s 222us/step - loss: 0.1900 - accuracy: 0.9351 - val_loss: 0.2216 - val_accuracy: 0.9252\n",
      "Epoch 8/10\n",
      "17976/17976 [==============================] - 4s 207us/step - loss: 0.1797 - accuracy: 0.9383 - val_loss: 0.2285 - val_accuracy: 0.9283\n",
      "Epoch 9/10\n",
      "17976/17976 [==============================] - 4s 222us/step - loss: 0.1710 - accuracy: 0.9419 - val_loss: 0.2236 - val_accuracy: 0.9283\n",
      "Epoch 00009: early stopping\n",
      "4494/4494 [==============================] - 0s 64us/step\n"
     ]
    },
    {
     "name": "stderr",
     "output_type": "stream",
     "text": [
      "\r",
      "0% [#########                     ] 100% | ETA: 01:41:55"
     ]
    },
    {
     "name": "stdout",
     "output_type": "stream",
     "text": [
      "Train on 17976 samples, validate on 4494 samples\n",
      "Epoch 1/10\n",
      "17976/17976 [==============================] - 4s 250us/step - loss: 0.4023 - accuracy: 0.8632 - val_loss: 0.2995 - val_accuracy: 0.9077\n",
      "Epoch 2/10\n",
      "17976/17976 [==============================] - 4s 201us/step - loss: 0.2887 - accuracy: 0.9041 - val_loss: 0.2829 - val_accuracy: 0.9068\n",
      "Epoch 3/10\n",
      "17976/17976 [==============================] - 4s 232us/step - loss: 0.2529 - accuracy: 0.9163 - val_loss: 0.2564 - val_accuracy: 0.9119\n",
      "Epoch 4/10\n",
      "17976/17976 [==============================] - 4s 199us/step - loss: 0.2344 - accuracy: 0.9199 - val_loss: 0.2737 - val_accuracy: 0.9132\n",
      "Epoch 5/10\n",
      "17976/17976 [==============================] - 4s 202us/step - loss: 0.2142 - accuracy: 0.9258 - val_loss: 0.2334 - val_accuracy: 0.9215\n",
      "Epoch 6/10\n",
      "17976/17976 [==============================] - 4s 211us/step - loss: 0.1995 - accuracy: 0.9303 - val_loss: 0.2633 - val_accuracy: 0.9203\n",
      "Epoch 7/10\n",
      "17976/17976 [==============================] - 4s 214us/step - loss: 0.1921 - accuracy: 0.9329 - val_loss: 0.2379 - val_accuracy: 0.9230\n",
      "Epoch 00007: early stopping\n",
      "4494/4494 [==============================] - 0s 61us/step\n",
      "Train on 17976 samples, validate on 4494 samples\n",
      "Epoch 1/10\n",
      "17976/17976 [==============================] - 6s 331us/step - loss: 0.3976 - accuracy: 0.8669 - val_loss: 0.3151 - val_accuracy: 0.8945\n",
      "Epoch 2/10\n",
      "17976/17976 [==============================] - 4s 243us/step - loss: 0.2889 - accuracy: 0.9013 - val_loss: 0.2945 - val_accuracy: 0.9052\n",
      "Epoch 3/10\n",
      "17976/17976 [==============================] - 4s 217us/step - loss: 0.2569 - accuracy: 0.9144 - val_loss: 0.2534 - val_accuracy: 0.9163\n",
      "Epoch 4/10\n",
      "17976/17976 [==============================] - 4s 218us/step - loss: 0.2312 - accuracy: 0.9210 - val_loss: 0.2690 - val_accuracy: 0.9123\n",
      "Epoch 5/10\n",
      "17976/17976 [==============================] - 4s 218us/step - loss: 0.2158 - accuracy: 0.9257 - val_loss: 0.2415 - val_accuracy: 0.9170\n",
      "Epoch 6/10\n",
      "17976/17976 [==============================] - 4s 221us/step - loss: 0.2065 - accuracy: 0.9255 - val_loss: 0.2456 - val_accuracy: 0.9197\n",
      "Epoch 7/10\n",
      "17976/17976 [==============================] - 4s 216us/step - loss: 0.1979 - accuracy: 0.9320 - val_loss: 0.2219 - val_accuracy: 0.9263\n",
      "Epoch 8/10\n",
      "17976/17976 [==============================] - 4s 221us/step - loss: 0.1839 - accuracy: 0.9352 - val_loss: 0.2259 - val_accuracy: 0.9281\n",
      "Epoch 9/10\n",
      "17976/17976 [==============================] - 4s 221us/step - loss: 0.1756 - accuracy: 0.9378 - val_loss: 0.2337 - val_accuracy: 0.9272\n",
      "Epoch 00009: early stopping\n",
      "4494/4494 [==============================] - 0s 46us/step\n"
     ]
    },
    {
     "name": "stderr",
     "output_type": "stream",
     "text": [
      "\r",
      "0% [##########                    ] 100% | ETA: 01:36:27"
     ]
    },
    {
     "name": "stdout",
     "output_type": "stream",
     "text": [
      "Train on 17976 samples, validate on 4494 samples\n",
      "Epoch 1/10\n",
      "17976/17976 [==============================] - 6s 326us/step - loss: 0.3973 - accuracy: 0.8678 - val_loss: 0.3311 - val_accuracy: 0.8883\n",
      "Epoch 2/10\n",
      "17976/17976 [==============================] - 5s 304us/step - loss: 0.2891 - accuracy: 0.9019 - val_loss: 0.2855 - val_accuracy: 0.9025\n",
      "Epoch 3/10\n",
      "17976/17976 [==============================] - 6s 320us/step - loss: 0.2533 - accuracy: 0.9173 - val_loss: 0.2523 - val_accuracy: 0.9174\n",
      "Epoch 4/10\n",
      "17976/17976 [==============================] - 5s 254us/step - loss: 0.2371 - accuracy: 0.9187 - val_loss: 0.2707 - val_accuracy: 0.9070\n",
      "Epoch 5/10\n",
      "17976/17976 [==============================] - 4s 233us/step - loss: 0.2174 - accuracy: 0.9227 - val_loss: 0.2357 - val_accuracy: 0.9199\n",
      "Epoch 6/10\n",
      "17976/17976 [==============================] - 4s 226us/step - loss: 0.2029 - accuracy: 0.9281 - val_loss: 0.2542 - val_accuracy: 0.9192\n",
      "Epoch 7/10\n",
      "17976/17976 [==============================] - 5s 296us/step - loss: 0.1943 - accuracy: 0.9321 - val_loss: 0.2175 - val_accuracy: 0.9290\n",
      "Epoch 8/10\n",
      "17976/17976 [==============================] - 5s 290us/step - loss: 0.1841 - accuracy: 0.9357 - val_loss: 0.2493 - val_accuracy: 0.9186\n",
      "Epoch 9/10\n",
      "17976/17976 [==============================] - 5s 289us/step - loss: 0.1761 - accuracy: 0.9369 - val_loss: 0.2234 - val_accuracy: 0.9317\n",
      "Epoch 00009: early stopping\n",
      "4494/4494 [==============================] - 0s 77us/step\n"
     ]
    },
    {
     "name": "stderr",
     "output_type": "stream",
     "text": [
      "\r",
      "0% [###########                   ] 100% | ETA: 01:33:21"
     ]
    },
    {
     "name": "stdout",
     "output_type": "stream",
     "text": [
      "Train on 17976 samples, validate on 4494 samples\n",
      "Epoch 1/10\n",
      "17976/17976 [==============================] - 5s 255us/step - loss: 0.3976 - accuracy: 0.8691 - val_loss: 0.3081 - val_accuracy: 0.9039\n",
      "Epoch 2/10\n",
      "17976/17976 [==============================] - 4s 248us/step - loss: 0.2916 - accuracy: 0.9024 - val_loss: 0.2918 - val_accuracy: 0.9048\n",
      "Epoch 3/10\n",
      "17976/17976 [==============================] - 6s 311us/step - loss: 0.2558 - accuracy: 0.9160 - val_loss: 0.2564 - val_accuracy: 0.9146\n",
      "Epoch 4/10\n",
      "17976/17976 [==============================] - 5s 297us/step - loss: 0.2370 - accuracy: 0.9191 - val_loss: 0.2835 - val_accuracy: 0.9039\n",
      "Epoch 5/10\n",
      "17976/17976 [==============================] - 5s 261us/step - loss: 0.2174 - accuracy: 0.9244 - val_loss: 0.2376 - val_accuracy: 0.9212\n",
      "Epoch 6/10\n",
      "17976/17976 [==============================] - 5s 273us/step - loss: 0.2006 - accuracy: 0.9291 - val_loss: 0.2475 - val_accuracy: 0.9243\n",
      "Epoch 7/10\n",
      "17976/17976 [==============================] - 6s 318us/step - loss: 0.1974 - accuracy: 0.9326 - val_loss: 0.2293 - val_accuracy: 0.9252\n",
      "Epoch 8/10\n",
      "17976/17976 [==============================] - 5s 275us/step - loss: 0.1834 - accuracy: 0.9357 - val_loss: 0.2244 - val_accuracy: 0.9272\n",
      "Epoch 9/10\n",
      "17976/17976 [==============================] - 5s 299us/step - loss: 0.1748 - accuracy: 0.9394 - val_loss: 0.2358 - val_accuracy: 0.9292\n",
      "Epoch 10/10\n",
      "17976/17976 [==============================] - 6s 311us/step - loss: 0.1680 - accuracy: 0.9410 - val_loss: 0.2376 - val_accuracy: 0.9257\n",
      "Epoch 00010: early stopping\n",
      "4494/4494 [==============================] - 0s 55us/step\n"
     ]
    },
    {
     "name": "stderr",
     "output_type": "stream",
     "text": [
      "\r",
      "0% [############                  ] 100% | ETA: 01:30:45"
     ]
    },
    {
     "name": "stdout",
     "output_type": "stream",
     "text": [
      "Train on 17976 samples, validate on 4494 samples\n",
      "Epoch 1/10\n",
      "17976/17976 [==============================] - 4s 222us/step - loss: 0.4059 - accuracy: 0.8647 - val_loss: 0.2918 - val_accuracy: 0.9061\n",
      "Epoch 2/10\n",
      "17976/17976 [==============================] - 3s 148us/step - loss: 0.2788 - accuracy: 0.9081 - val_loss: 0.3021 - val_accuracy: 0.8992\n",
      "Epoch 3/10\n",
      "17976/17976 [==============================] - 3s 152us/step - loss: 0.2482 - accuracy: 0.9177 - val_loss: 0.2460 - val_accuracy: 0.9186\n",
      "Epoch 4/10\n",
      "17976/17976 [==============================] - 3s 141us/step - loss: 0.2283 - accuracy: 0.9237 - val_loss: 0.2476 - val_accuracy: 0.9212\n",
      "Epoch 5/10\n",
      "17976/17976 [==============================] - 3s 175us/step - loss: 0.2083 - accuracy: 0.9300 - val_loss: 0.2422 - val_accuracy: 0.9219\n",
      "Epoch 6/10\n",
      "17976/17976 [==============================] - 3s 172us/step - loss: 0.1944 - accuracy: 0.9351 - val_loss: 0.2331 - val_accuracy: 0.9288\n",
      "Epoch 7/10\n",
      "17976/17976 [==============================] - 3s 176us/step - loss: 0.1860 - accuracy: 0.9373 - val_loss: 0.2231 - val_accuracy: 0.9272\n",
      "Epoch 8/10\n",
      "17976/17976 [==============================] - 3s 160us/step - loss: 0.1741 - accuracy: 0.9423 - val_loss: 0.2264 - val_accuracy: 0.9263\n",
      "Epoch 9/10\n",
      "17976/17976 [==============================] - 3s 162us/step - loss: 0.1651 - accuracy: 0.9445 - val_loss: 0.2379 - val_accuracy: 0.9226\n",
      "Epoch 00009: early stopping\n",
      "4494/4494 [==============================] - 0s 40us/step\n",
      "Train on 17976 samples, validate on 4494 samples\n",
      "Epoch 1/10\n",
      "17976/17976 [==============================] - 6s 320us/step - loss: 0.4015 - accuracy: 0.8672 - val_loss: 0.2947 - val_accuracy: 0.9094\n",
      "Epoch 2/10\n",
      "17976/17976 [==============================] - 3s 191us/step - loss: 0.2806 - accuracy: 0.9074 - val_loss: 0.2765 - val_accuracy: 0.9083\n",
      "Epoch 3/10\n",
      "17976/17976 [==============================] - 4s 205us/step - loss: 0.2466 - accuracy: 0.9184 - val_loss: 0.2514 - val_accuracy: 0.9192\n",
      "Epoch 4/10\n",
      "17976/17976 [==============================] - 4s 209us/step - loss: 0.2284 - accuracy: 0.9221 - val_loss: 0.2542 - val_accuracy: 0.9174\n",
      "Epoch 5/10\n",
      "17976/17976 [==============================] - 3s 180us/step - loss: 0.2116 - accuracy: 0.9277 - val_loss: 0.2513 - val_accuracy: 0.9194\n",
      "Epoch 6/10\n",
      "17976/17976 [==============================] - 4s 225us/step - loss: 0.1960 - accuracy: 0.9327 - val_loss: 0.2506 - val_accuracy: 0.9215\n",
      "Epoch 7/10\n",
      "17976/17976 [==============================] - 4s 222us/step - loss: 0.1870 - accuracy: 0.9360 - val_loss: 0.2280 - val_accuracy: 0.9299\n",
      "Epoch 8/10\n",
      "17976/17976 [==============================] - 3s 193us/step - loss: 0.1746 - accuracy: 0.9388 - val_loss: 0.2250 - val_accuracy: 0.9297\n",
      "Epoch 9/10\n",
      "17976/17976 [==============================] - 3s 193us/step - loss: 0.1653 - accuracy: 0.9411 - val_loss: 0.2192 - val_accuracy: 0.9341\n",
      "Epoch 10/10\n",
      "17976/17976 [==============================] - 4s 198us/step - loss: 0.1603 - accuracy: 0.9438 - val_loss: 0.2375 - val_accuracy: 0.9288\n",
      "4494/4494 [==============================] - 0s 48us/step\n"
     ]
    },
    {
     "name": "stderr",
     "output_type": "stream",
     "text": [
      "\r",
      "0% [#############                 ] 100% | ETA: 01:26:14"
     ]
    },
    {
     "name": "stdout",
     "output_type": "stream",
     "text": [
      "Train on 17976 samples, validate on 4494 samples\n",
      "Epoch 1/10\n",
      "17976/17976 [==============================] - 5s 256us/step - loss: 0.4019 - accuracy: 0.8682 - val_loss: 0.3065 - val_accuracy: 0.8979\n",
      "Epoch 2/10\n",
      "17976/17976 [==============================] - 3s 176us/step - loss: 0.2826 - accuracy: 0.9049 - val_loss: 0.3050 - val_accuracy: 0.9012\n",
      "Epoch 3/10\n",
      "17976/17976 [==============================] - 3s 187us/step - loss: 0.2463 - accuracy: 0.9211 - val_loss: 0.2473 - val_accuracy: 0.9186\n",
      "Epoch 4/10\n",
      "17976/17976 [==============================] - 3s 176us/step - loss: 0.2283 - accuracy: 0.9234 - val_loss: 0.2630 - val_accuracy: 0.9099\n",
      "Epoch 5/10\n",
      "17976/17976 [==============================] - 3s 171us/step - loss: 0.2124 - accuracy: 0.9275 - val_loss: 0.2409 - val_accuracy: 0.9217\n",
      "Epoch 6/10\n",
      "17976/17976 [==============================] - 3s 168us/step - loss: 0.1949 - accuracy: 0.9347 - val_loss: 0.2466 - val_accuracy: 0.9226\n",
      "Epoch 7/10\n",
      "17976/17976 [==============================] - 3s 176us/step - loss: 0.1911 - accuracy: 0.9329 - val_loss: 0.2354 - val_accuracy: 0.9239\n",
      "Epoch 8/10\n",
      "17976/17976 [==============================] - 3s 167us/step - loss: 0.1738 - accuracy: 0.9399 - val_loss: 0.2379 - val_accuracy: 0.9241\n",
      "Epoch 9/10\n",
      "17976/17976 [==============================] - 3s 168us/step - loss: 0.1654 - accuracy: 0.9431 - val_loss: 0.2219 - val_accuracy: 0.9299\n",
      "Epoch 10/10\n",
      "17976/17976 [==============================] - 3s 176us/step - loss: 0.1584 - accuracy: 0.9443 - val_loss: 0.2420 - val_accuracy: 0.9239\n",
      "4494/4494 [==============================] - 0s 43us/step\n"
     ]
    },
    {
     "name": "stderr",
     "output_type": "stream",
     "text": [
      "\r",
      "0% [##############                ] 100% | ETA: 01:23:11"
     ]
    },
    {
     "name": "stdout",
     "output_type": "stream",
     "text": [
      "Train on 17976 samples, validate on 4494 samples\n",
      "Epoch 1/10\n",
      "17976/17976 [==============================] - 5s 253us/step - loss: 0.3885 - accuracy: 0.8709 - val_loss: 0.3018 - val_accuracy: 0.8992\n",
      "Epoch 2/10\n",
      "17976/17976 [==============================] - 3s 182us/step - loss: 0.2785 - accuracy: 0.9078 - val_loss: 0.2845 - val_accuracy: 0.9065\n",
      "Epoch 3/10\n",
      "17976/17976 [==============================] - 5s 285us/step - loss: 0.2414 - accuracy: 0.9205 - val_loss: 0.2420 - val_accuracy: 0.9217\n",
      "Epoch 4/10\n",
      "17976/17976 [==============================] - 4s 214us/step - loss: 0.2252 - accuracy: 0.9236 - val_loss: 0.2773 - val_accuracy: 0.9105\n",
      "Epoch 5/10\n",
      "17976/17976 [==============================] - 4s 205us/step - loss: 0.2087 - accuracy: 0.9278 - val_loss: 0.2428 - val_accuracy: 0.9186\n",
      "Epoch 00005: early stopping\n",
      "4494/4494 [==============================] - 0s 49us/step\n",
      "Train on 17976 samples, validate on 4494 samples\n",
      "Epoch 1/10\n",
      "17976/17976 [==============================] - 5s 276us/step - loss: 0.3989 - accuracy: 0.8688 - val_loss: 0.3059 - val_accuracy: 0.8996\n",
      "Epoch 2/10\n",
      "17976/17976 [==============================] - 5s 258us/step - loss: 0.2841 - accuracy: 0.9053 - val_loss: 0.2754 - val_accuracy: 0.9121\n",
      "Epoch 3/10\n",
      "17976/17976 [==============================] - 4s 243us/step - loss: 0.2453 - accuracy: 0.9186 - val_loss: 0.2480 - val_accuracy: 0.9203\n",
      "Epoch 4/10\n",
      "17976/17976 [==============================] - 5s 260us/step - loss: 0.2268 - accuracy: 0.9222 - val_loss: 0.2645 - val_accuracy: 0.9150\n",
      "Epoch 5/10\n",
      "17976/17976 [==============================] - 4s 233us/step - loss: 0.2110 - accuracy: 0.9275 - val_loss: 0.2396 - val_accuracy: 0.9252\n",
      "Epoch 6/10\n",
      "17976/17976 [==============================] - 4s 238us/step - loss: 0.1934 - accuracy: 0.9330 - val_loss: 0.2657 - val_accuracy: 0.9177\n",
      "Epoch 7/10\n",
      "17976/17976 [==============================] - 4s 227us/step - loss: 0.1850 - accuracy: 0.9353 - val_loss: 0.2375 - val_accuracy: 0.9210\n",
      "Epoch 8/10\n",
      "17976/17976 [==============================] - 4s 212us/step - loss: 0.1721 - accuracy: 0.9387 - val_loss: 0.2215 - val_accuracy: 0.9315\n",
      "Epoch 9/10\n",
      "17976/17976 [==============================] - 4s 210us/step - loss: 0.1607 - accuracy: 0.9439 - val_loss: 0.2376 - val_accuracy: 0.9270\n",
      "Epoch 10/10\n",
      "17976/17976 [==============================] - 4s 203us/step - loss: 0.1569 - accuracy: 0.9449 - val_loss: 0.2518 - val_accuracy: 0.9241\n",
      "Epoch 00010: early stopping\n",
      "4494/4494 [==============================] - 0s 43us/step\n"
     ]
    },
    {
     "name": "stderr",
     "output_type": "stream",
     "text": [
      "\r",
      "0% [###############               ] 100% | ETA: 01:17:18"
     ]
    },
    {
     "name": "stdout",
     "output_type": "stream",
     "text": [
      "Train on 17976 samples, validate on 4494 samples\n",
      "Epoch 1/10\n",
      "17976/17976 [==============================] - 4s 244us/step - loss: 0.3899 - accuracy: 0.8734 - val_loss: 0.3086 - val_accuracy: 0.9001\n",
      "Epoch 2/10\n",
      "17976/17976 [==============================] - 3s 192us/step - loss: 0.2806 - accuracy: 0.9059 - val_loss: 0.2876 - val_accuracy: 0.9072\n",
      "Epoch 3/10\n",
      "17976/17976 [==============================] - 4s 209us/step - loss: 0.2450 - accuracy: 0.9194 - val_loss: 0.2638 - val_accuracy: 0.9121\n",
      "Epoch 4/10\n",
      "17976/17976 [==============================] - 4s 230us/step - loss: 0.2248 - accuracy: 0.9241 - val_loss: 0.2605 - val_accuracy: 0.9152\n",
      "Epoch 5/10\n",
      "17976/17976 [==============================] - 3s 193us/step - loss: 0.2073 - accuracy: 0.9283 - val_loss: 0.2351 - val_accuracy: 0.9259\n",
      "Epoch 6/10\n",
      "17976/17976 [==============================] - 3s 191us/step - loss: 0.1932 - accuracy: 0.9335 - val_loss: 0.2536 - val_accuracy: 0.9183\n",
      "Epoch 7/10\n",
      "17976/17976 [==============================] - 4s 213us/step - loss: 0.1860 - accuracy: 0.9346 - val_loss: 0.2166 - val_accuracy: 0.9295\n",
      "Epoch 8/10\n",
      "17976/17976 [==============================] - 4s 205us/step - loss: 0.1679 - accuracy: 0.9416 - val_loss: 0.2187 - val_accuracy: 0.9297\n",
      "Epoch 9/10\n",
      "17976/17976 [==============================] - 4s 212us/step - loss: 0.1630 - accuracy: 0.9423 - val_loss: 0.2307 - val_accuracy: 0.9263\n",
      "Epoch 00009: early stopping\n",
      "4494/4494 [==============================] - 0s 54us/step\n",
      "Train on 17976 samples, validate on 4494 samples\n",
      "Epoch 1/10\n",
      "17976/17976 [==============================] - 5s 305us/step - loss: 0.3911 - accuracy: 0.8693 - val_loss: 0.3128 - val_accuracy: 0.8939\n",
      "Epoch 2/10\n",
      "17976/17976 [==============================] - 4s 218us/step - loss: 0.2761 - accuracy: 0.9079 - val_loss: 0.2745 - val_accuracy: 0.9121\n",
      "Epoch 3/10\n",
      "17976/17976 [==============================] - 4s 217us/step - loss: 0.2421 - accuracy: 0.9212 - val_loss: 0.2428 - val_accuracy: 0.9212\n",
      "Epoch 4/10\n",
      "17976/17976 [==============================] - 4s 222us/step - loss: 0.2252 - accuracy: 0.9241 - val_loss: 0.2557 - val_accuracy: 0.9161\n",
      "Epoch 5/10\n",
      "17976/17976 [==============================] - 4s 233us/step - loss: 0.2077 - accuracy: 0.9292 - val_loss: 0.2409 - val_accuracy: 0.9259\n",
      "Epoch 6/10\n",
      "17976/17976 [==============================] - 4s 234us/step - loss: 0.1916 - accuracy: 0.9340 - val_loss: 0.2439 - val_accuracy: 0.9230\n",
      "Epoch 7/10\n",
      "17976/17976 [==============================] - 4s 231us/step - loss: 0.1844 - accuracy: 0.9367 - val_loss: 0.2365 - val_accuracy: 0.9235\n",
      "Epoch 8/10\n",
      "17976/17976 [==============================] - 4s 229us/step - loss: 0.1760 - accuracy: 0.9398 - val_loss: 0.2253 - val_accuracy: 0.9281\n",
      "Epoch 9/10\n",
      "17976/17976 [==============================] - 4s 228us/step - loss: 0.1629 - accuracy: 0.9427 - val_loss: 0.2137 - val_accuracy: 0.9364\n",
      "Epoch 10/10\n",
      "17976/17976 [==============================] - 4s 223us/step - loss: 0.1566 - accuracy: 0.9446 - val_loss: 0.2406 - val_accuracy: 0.9279\n",
      "4494/4494 [==============================] - 0s 54us/step\n"
     ]
    },
    {
     "name": "stderr",
     "output_type": "stream",
     "text": [
      "\r",
      "0% [################              ] 100% | ETA: 01:11:29"
     ]
    },
    {
     "name": "stdout",
     "output_type": "stream",
     "text": [
      "Train on 17976 samples, validate on 4494 samples\n",
      "Epoch 1/10\n",
      "17976/17976 [==============================] - 5s 297us/step - loss: 0.3838 - accuracy: 0.8733 - val_loss: 0.3110 - val_accuracy: 0.8992\n",
      "Epoch 2/10\n",
      "17976/17976 [==============================] - 4s 245us/step - loss: 0.2790 - accuracy: 0.9064 - val_loss: 0.2824 - val_accuracy: 0.9123\n",
      "Epoch 3/10\n",
      "17976/17976 [==============================] - 4s 238us/step - loss: 0.2432 - accuracy: 0.9203 - val_loss: 0.2399 - val_accuracy: 0.9172\n",
      "Epoch 4/10\n",
      "17976/17976 [==============================] - 4s 234us/step - loss: 0.2255 - accuracy: 0.9222 - val_loss: 0.2657 - val_accuracy: 0.9179\n",
      "Epoch 5/10\n",
      "17976/17976 [==============================] - 4s 232us/step - loss: 0.2086 - accuracy: 0.9283 - val_loss: 0.2410 - val_accuracy: 0.9232\n",
      "Epoch 00005: early stopping\n",
      "4494/4494 [==============================] - 0s 46us/step\n"
     ]
    },
    {
     "name": "stderr",
     "output_type": "stream",
     "text": [
      "\r",
      "0% [#################             ] 100% | ETA: 01:08:14"
     ]
    },
    {
     "name": "stdout",
     "output_type": "stream",
     "text": [
      "Train on 17976 samples, validate on 4494 samples\n",
      "Epoch 1/10\n",
      "17976/17976 [==============================] - 5s 275us/step - loss: 0.3921 - accuracy: 0.8695 - val_loss: 0.3159 - val_accuracy: 0.8945\n",
      "Epoch 2/10\n",
      "17976/17976 [==============================] - 4s 215us/step - loss: 0.2865 - accuracy: 0.9048 - val_loss: 0.2893 - val_accuracy: 0.9057\n",
      "Epoch 3/10\n",
      "17976/17976 [==============================] - 4s 215us/step - loss: 0.2475 - accuracy: 0.9177 - val_loss: 0.2536 - val_accuracy: 0.9157\n",
      "Epoch 4/10\n",
      "17976/17976 [==============================] - 4s 218us/step - loss: 0.2283 - accuracy: 0.9232 - val_loss: 0.2642 - val_accuracy: 0.9154\n",
      "Epoch 5/10\n",
      "17976/17976 [==============================] - 4s 234us/step - loss: 0.2121 - accuracy: 0.9265 - val_loss: 0.2491 - val_accuracy: 0.9166\n",
      "Epoch 6/10\n",
      "17976/17976 [==============================] - 4s 234us/step - loss: 0.2002 - accuracy: 0.9307 - val_loss: 0.2640 - val_accuracy: 0.9221\n",
      "Epoch 7/10\n",
      "17976/17976 [==============================] - 4s 239us/step - loss: 0.1893 - accuracy: 0.9340 - val_loss: 0.2456 - val_accuracy: 0.9179\n",
      "Epoch 8/10\n",
      "17976/17976 [==============================] - 4s 224us/step - loss: 0.1774 - accuracy: 0.9384 - val_loss: 0.2405 - val_accuracy: 0.9239\n",
      "Epoch 9/10\n",
      "17976/17976 [==============================] - 4s 218us/step - loss: 0.1692 - accuracy: 0.9404 - val_loss: 0.2339 - val_accuracy: 0.9290\n",
      "Epoch 10/10\n",
      "17976/17976 [==============================] - 4s 216us/step - loss: 0.1613 - accuracy: 0.9445 - val_loss: 0.2520 - val_accuracy: 0.9228\n",
      "4494/4494 [==============================] - 0s 44us/step\n"
     ]
    },
    {
     "name": "stderr",
     "output_type": "stream",
     "text": [
      "\r",
      "0% [##################            ] 100% | ETA: 01:04:57"
     ]
    },
    {
     "name": "stdout",
     "output_type": "stream",
     "text": [
      "Train on 17976 samples, validate on 4494 samples\n",
      "Epoch 1/10\n",
      "17976/17976 [==============================] - 3s 176us/step - loss: 0.3887 - accuracy: 0.8688 - val_loss: 0.2833 - val_accuracy: 0.9108\n",
      "Epoch 2/10\n",
      "17976/17976 [==============================] - 2s 128us/step - loss: 0.2740 - accuracy: 0.9097 - val_loss: 0.2637 - val_accuracy: 0.9188\n",
      "Epoch 3/10\n",
      "17976/17976 [==============================] - 2s 131us/step - loss: 0.2392 - accuracy: 0.9230 - val_loss: 0.2493 - val_accuracy: 0.9239\n",
      "Epoch 4/10\n",
      "17976/17976 [==============================] - 2s 132us/step - loss: 0.2202 - accuracy: 0.9273 - val_loss: 0.2583 - val_accuracy: 0.9161\n",
      "Epoch 5/10\n",
      "17976/17976 [==============================] - 2s 133us/step - loss: 0.2026 - accuracy: 0.9314 - val_loss: 0.2235 - val_accuracy: 0.9272\n",
      "Epoch 6/10\n",
      "17976/17976 [==============================] - 2s 133us/step - loss: 0.1899 - accuracy: 0.9351 - val_loss: 0.2334 - val_accuracy: 0.9301\n",
      "Epoch 7/10\n",
      "17976/17976 [==============================] - 2s 136us/step - loss: 0.1784 - accuracy: 0.9393 - val_loss: 0.2250 - val_accuracy: 0.9268\n",
      "Epoch 00007: early stopping\n",
      "4494/4494 [==============================] - 0s 41us/step\n",
      "Train on 17976 samples, validate on 4494 samples\n",
      "Epoch 1/10\n",
      "17976/17976 [==============================] - 4s 201us/step - loss: 0.3966 - accuracy: 0.8662 - val_loss: 0.2853 - val_accuracy: 0.9103\n",
      "Epoch 2/10\n",
      "17976/17976 [==============================] - 3s 143us/step - loss: 0.2765 - accuracy: 0.9064 - val_loss: 0.2668 - val_accuracy: 0.9197\n",
      "Epoch 3/10\n",
      "17976/17976 [==============================] - 3s 144us/step - loss: 0.2402 - accuracy: 0.9208 - val_loss: 0.2542 - val_accuracy: 0.9159\n",
      "Epoch 4/10\n",
      "17976/17976 [==============================] - 3s 145us/step - loss: 0.2221 - accuracy: 0.9238 - val_loss: 0.2590 - val_accuracy: 0.9152\n",
      "Epoch 5/10\n",
      "17976/17976 [==============================] - 3s 146us/step - loss: 0.2029 - accuracy: 0.9313 - val_loss: 0.2389 - val_accuracy: 0.9241\n",
      "Epoch 6/10\n",
      "17976/17976 [==============================] - 3s 147us/step - loss: 0.1886 - accuracy: 0.9357 - val_loss: 0.2349 - val_accuracy: 0.9270\n",
      "Epoch 7/10\n",
      "17976/17976 [==============================] - 3s 146us/step - loss: 0.1810 - accuracy: 0.9388 - val_loss: 0.2514 - val_accuracy: 0.9188\n",
      "Epoch 8/10\n",
      "17976/17976 [==============================] - 3s 147us/step - loss: 0.1683 - accuracy: 0.9403 - val_loss: 0.2332 - val_accuracy: 0.9246\n",
      "Epoch 9/10\n",
      "17976/17976 [==============================] - 3s 147us/step - loss: 0.1599 - accuracy: 0.9454 - val_loss: 0.2301 - val_accuracy: 0.9335\n",
      "Epoch 10/10\n",
      "17976/17976 [==============================] - 3s 149us/step - loss: 0.1513 - accuracy: 0.9474 - val_loss: 0.2524 - val_accuracy: 0.9279\n",
      "4494/4494 [==============================] - 0s 39us/step\n"
     ]
    },
    {
     "name": "stderr",
     "output_type": "stream",
     "text": [
      "\r",
      "0% [###################           ] 100% | ETA: 00:57:52"
     ]
    },
    {
     "name": "stdout",
     "output_type": "stream",
     "text": [
      "Train on 17976 samples, validate on 4494 samples\n",
      "Epoch 1/10\n",
      "17976/17976 [==============================] - 4s 204us/step - loss: 0.3876 - accuracy: 0.8707 - val_loss: 0.2860 - val_accuracy: 0.9063\n",
      "Epoch 2/10\n",
      "17976/17976 [==============================] - 3s 160us/step - loss: 0.2747 - accuracy: 0.9089 - val_loss: 0.2865 - val_accuracy: 0.9079\n",
      "Epoch 3/10\n",
      "17976/17976 [==============================] - 3s 161us/step - loss: 0.2387 - accuracy: 0.9220 - val_loss: 0.2645 - val_accuracy: 0.9139\n",
      "Epoch 4/10\n",
      "17976/17976 [==============================] - 3s 162us/step - loss: 0.2215 - accuracy: 0.9259 - val_loss: 0.2569 - val_accuracy: 0.9186\n",
      "Epoch 5/10\n",
      "17976/17976 [==============================] - 3s 164us/step - loss: 0.2007 - accuracy: 0.9317 - val_loss: 0.2450 - val_accuracy: 0.9252\n",
      "Epoch 6/10\n",
      "17976/17976 [==============================] - 3s 165us/step - loss: 0.1879 - accuracy: 0.9344 - val_loss: 0.2479 - val_accuracy: 0.9221\n",
      "Epoch 7/10\n",
      "17976/17976 [==============================] - 3s 165us/step - loss: 0.1805 - accuracy: 0.9381 - val_loss: 0.2360 - val_accuracy: 0.9219\n",
      "Epoch 8/10\n",
      "17976/17976 [==============================] - 3s 165us/step - loss: 0.1667 - accuracy: 0.9421 - val_loss: 0.2288 - val_accuracy: 0.9304\n",
      "Epoch 9/10\n",
      "17976/17976 [==============================] - 3s 165us/step - loss: 0.1557 - accuracy: 0.9473 - val_loss: 0.2267 - val_accuracy: 0.9319\n",
      "Epoch 10/10\n",
      "17976/17976 [==============================] - 3s 164us/step - loss: 0.1504 - accuracy: 0.9475 - val_loss: 0.2543 - val_accuracy: 0.9230\n",
      "4494/4494 [==============================] - 0s 40us/step\n"
     ]
    },
    {
     "name": "stderr",
     "output_type": "stream",
     "text": [
      "\r",
      "0% [####################          ] 100% | ETA: 00:54:24"
     ]
    },
    {
     "name": "stdout",
     "output_type": "stream",
     "text": [
      "Train on 17976 samples, validate on 4494 samples\n",
      "Epoch 1/10\n",
      "17976/17976 [==============================] - 4s 213us/step - loss: 0.3891 - accuracy: 0.8693 - val_loss: 0.3130 - val_accuracy: 0.8985\n",
      "Epoch 2/10\n",
      "17976/17976 [==============================] - 3s 165us/step - loss: 0.2750 - accuracy: 0.9071 - val_loss: 0.2660 - val_accuracy: 0.9139\n",
      "Epoch 3/10\n",
      "17976/17976 [==============================] - 3s 169us/step - loss: 0.2360 - accuracy: 0.9232 - val_loss: 0.2471 - val_accuracy: 0.9192\n",
      "Epoch 4/10\n",
      "17976/17976 [==============================] - 3s 169us/step - loss: 0.2205 - accuracy: 0.9240 - val_loss: 0.2433 - val_accuracy: 0.9194\n",
      "Epoch 5/10\n",
      "17976/17976 [==============================] - 3s 171us/step - loss: 0.2013 - accuracy: 0.9305 - val_loss: 0.2249 - val_accuracy: 0.9319\n",
      "Epoch 6/10\n",
      "17976/17976 [==============================] - 3s 173us/step - loss: 0.1868 - accuracy: 0.9353 - val_loss: 0.2218 - val_accuracy: 0.9310\n",
      "Epoch 7/10\n",
      "17976/17976 [==============================] - 3s 172us/step - loss: 0.1764 - accuracy: 0.9397 - val_loss: 0.2267 - val_accuracy: 0.9259\n",
      "Epoch 8/10\n",
      "17976/17976 [==============================] - 3s 172us/step - loss: 0.1671 - accuracy: 0.9434 - val_loss: 0.2268 - val_accuracy: 0.9299\n",
      "Epoch 00008: early stopping\n",
      "4494/4494 [==============================] - 0s 42us/step\n",
      "Train on 17976 samples, validate on 4494 samples\n",
      "Epoch 1/10\n",
      "17976/17976 [==============================] - 4s 224us/step - loss: 0.3789 - accuracy: 0.8740 - val_loss: 0.2899 - val_accuracy: 0.9052\n",
      "Epoch 2/10\n",
      "17976/17976 [==============================] - 3s 180us/step - loss: 0.2694 - accuracy: 0.9105 - val_loss: 0.2681 - val_accuracy: 0.9119\n",
      "Epoch 3/10\n",
      "17976/17976 [==============================] - 3s 183us/step - loss: 0.2371 - accuracy: 0.9227 - val_loss: 0.2465 - val_accuracy: 0.9188\n",
      "Epoch 4/10\n",
      "17976/17976 [==============================] - 3s 183us/step - loss: 0.2189 - accuracy: 0.9247 - val_loss: 0.2565 - val_accuracy: 0.9159\n",
      "Epoch 5/10\n",
      "17976/17976 [==============================] - 3s 187us/step - loss: 0.2015 - accuracy: 0.9317 - val_loss: 0.2242 - val_accuracy: 0.9301\n",
      "Epoch 6/10\n",
      "17976/17976 [==============================] - 3s 188us/step - loss: 0.1843 - accuracy: 0.9377 - val_loss: 0.2371 - val_accuracy: 0.9281\n",
      "Epoch 7/10\n",
      "17976/17976 [==============================] - 3s 187us/step - loss: 0.1830 - accuracy: 0.9364 - val_loss: 0.2342 - val_accuracy: 0.9259\n",
      "Epoch 00007: early stopping\n",
      "4494/4494 [==============================] - 0s 40us/step\n"
     ]
    },
    {
     "name": "stderr",
     "output_type": "stream",
     "text": [
      "\r",
      "0% [#####################         ] 100% | ETA: 00:47:19"
     ]
    },
    {
     "name": "stdout",
     "output_type": "stream",
     "text": [
      "Train on 17976 samples, validate on 4494 samples\n",
      "Epoch 1/10\n",
      "17976/17976 [==============================] - 6s 306us/step - loss: 0.3813 - accuracy: 0.8712 - val_loss: 0.3014 - val_accuracy: 0.9001\n",
      "Epoch 2/10\n",
      "17976/17976 [==============================] - 5s 269us/step - loss: 0.2745 - accuracy: 0.9082 - val_loss: 0.2860 - val_accuracy: 0.9081\n",
      "Epoch 3/10\n",
      "17976/17976 [==============================] - 5s 260us/step - loss: 0.2405 - accuracy: 0.9212 - val_loss: 0.2544 - val_accuracy: 0.9141\n",
      "Epoch 4/10\n",
      "17976/17976 [==============================] - 5s 260us/step - loss: 0.2206 - accuracy: 0.9254 - val_loss: 0.2759 - val_accuracy: 0.9108\n",
      "Epoch 5/10\n",
      "17976/17976 [==============================] - 6s 322us/step - loss: 0.2023 - accuracy: 0.9309 - val_loss: 0.2199 - val_accuracy: 0.9272\n",
      "Epoch 6/10\n",
      "17976/17976 [==============================] - 5s 288us/step - loss: 0.1877 - accuracy: 0.9364 - val_loss: 0.2371 - val_accuracy: 0.9261\n",
      "Epoch 7/10\n",
      "17976/17976 [==============================] - 4s 211us/step - loss: 0.1788 - accuracy: 0.9386 - val_loss: 0.2288 - val_accuracy: 0.9277\n",
      "Epoch 00007: early stopping\n",
      "4494/4494 [==============================] - 0s 49us/step\n",
      "Train on 17976 samples, validate on 4494 samples\n",
      "Epoch 1/10\n",
      "17976/17976 [==============================] - 5s 277us/step - loss: 0.3799 - accuracy: 0.8730 - val_loss: 0.3116 - val_accuracy: 0.9010\n",
      "Epoch 2/10\n",
      "17976/17976 [==============================] - 4s 236us/step - loss: 0.2773 - accuracy: 0.9080 - val_loss: 0.2900 - val_accuracy: 0.9048\n",
      "Epoch 3/10\n",
      "17976/17976 [==============================] - 5s 287us/step - loss: 0.2446 - accuracy: 0.9189 - val_loss: 0.2422 - val_accuracy: 0.9183\n",
      "Epoch 4/10\n",
      "17976/17976 [==============================] - 5s 257us/step - loss: 0.2232 - accuracy: 0.9252 - val_loss: 0.2898 - val_accuracy: 0.9041\n",
      "Epoch 5/10\n",
      "17976/17976 [==============================] - 5s 263us/step - loss: 0.2040 - accuracy: 0.9301 - val_loss: 0.2300 - val_accuracy: 0.9283\n",
      "Epoch 6/10\n",
      "17976/17976 [==============================] - 5s 261us/step - loss: 0.1898 - accuracy: 0.9350 - val_loss: 0.2446 - val_accuracy: 0.9243\n",
      "Epoch 7/10\n",
      "17976/17976 [==============================] - 5s 255us/step - loss: 0.1806 - accuracy: 0.9366 - val_loss: 0.2357 - val_accuracy: 0.9230\n",
      "Epoch 00007: early stopping\n",
      "4494/4494 [==============================] - 0s 46us/step\n"
     ]
    },
    {
     "name": "stderr",
     "output_type": "stream",
     "text": [
      "\r",
      "0% [######################        ] 100% | ETA: 00:40:39"
     ]
    },
    {
     "name": "stdout",
     "output_type": "stream",
     "text": [
      "Train on 17976 samples, validate on 4494 samples\n",
      "Epoch 1/10\n",
      "17976/17976 [==============================] - 5s 297us/step - loss: 0.3783 - accuracy: 0.8738 - val_loss: 0.2983 - val_accuracy: 0.9032\n",
      "Epoch 2/10\n",
      "17976/17976 [==============================] - 4s 232us/step - loss: 0.2730 - accuracy: 0.9079 - val_loss: 0.2840 - val_accuracy: 0.9023\n",
      "Epoch 3/10\n",
      "17976/17976 [==============================] - 4s 221us/step - loss: 0.2379 - accuracy: 0.9226 - val_loss: 0.2426 - val_accuracy: 0.9212\n",
      "Epoch 4/10\n",
      "17976/17976 [==============================] - 4s 230us/step - loss: 0.2218 - accuracy: 0.9237 - val_loss: 0.2498 - val_accuracy: 0.9143\n",
      "Epoch 5/10\n",
      "17976/17976 [==============================] - 4s 229us/step - loss: 0.1994 - accuracy: 0.9320 - val_loss: 0.2298 - val_accuracy: 0.9266\n",
      "Epoch 6/10\n",
      "17976/17976 [==============================] - 5s 262us/step - loss: 0.1911 - accuracy: 0.9331 - val_loss: 0.2283 - val_accuracy: 0.9308\n",
      "Epoch 7/10\n",
      "17976/17976 [==============================] - 4s 226us/step - loss: 0.1818 - accuracy: 0.9364 - val_loss: 0.2153 - val_accuracy: 0.9337\n",
      "Epoch 8/10\n",
      "17976/17976 [==============================] - 4s 227us/step - loss: 0.1696 - accuracy: 0.9419 - val_loss: 0.2232 - val_accuracy: 0.9310\n",
      "Epoch 9/10\n",
      "17976/17976 [==============================] - 4s 231us/step - loss: 0.1547 - accuracy: 0.9469 - val_loss: 0.2212 - val_accuracy: 0.9321\n",
      "Epoch 00009: early stopping\n",
      "4494/4494 [==============================] - 0s 72us/step\n"
     ]
    },
    {
     "name": "stderr",
     "output_type": "stream",
     "text": [
      "\r",
      "0% [#######################       ] 100% | ETA: 00:37:16"
     ]
    },
    {
     "name": "stdout",
     "output_type": "stream",
     "text": [
      "Train on 17976 samples, validate on 4494 samples\n",
      "Epoch 1/10\n",
      "17976/17976 [==============================] - 5s 255us/step - loss: 0.3820 - accuracy: 0.8738 - val_loss: 0.3206 - val_accuracy: 0.8956\n",
      "Epoch 2/10\n",
      "17976/17976 [==============================] - 4s 226us/step - loss: 0.2784 - accuracy: 0.9062 - val_loss: 0.2700 - val_accuracy: 0.9161\n",
      "Epoch 3/10\n",
      "17976/17976 [==============================] - 4s 213us/step - loss: 0.2435 - accuracy: 0.9204 - val_loss: 0.2464 - val_accuracy: 0.9177\n",
      "Epoch 4/10\n",
      "17976/17976 [==============================] - 4s 216us/step - loss: 0.2215 - accuracy: 0.9243 - val_loss: 0.2584 - val_accuracy: 0.9163\n",
      "Epoch 5/10\n",
      "17976/17976 [==============================] - 4s 217us/step - loss: 0.2055 - accuracy: 0.9291 - val_loss: 0.2381 - val_accuracy: 0.9248\n",
      "Epoch 6/10\n",
      "17976/17976 [==============================] - 4s 231us/step - loss: 0.1933 - accuracy: 0.9335 - val_loss: 0.2256 - val_accuracy: 0.9281\n",
      "Epoch 7/10\n",
      "17976/17976 [==============================] - 4s 218us/step - loss: 0.1809 - accuracy: 0.9374 - val_loss: 0.2373 - val_accuracy: 0.9275\n",
      "Epoch 8/10\n",
      "17976/17976 [==============================] - 4s 229us/step - loss: 0.1699 - accuracy: 0.9428 - val_loss: 0.2307 - val_accuracy: 0.9235\n",
      "Epoch 00008: early stopping\n",
      "4494/4494 [==============================] - 0s 43us/step\n"
     ]
    },
    {
     "name": "stderr",
     "output_type": "stream",
     "text": [
      "\r",
      "0% [########################      ] 100% | ETA: 00:33:44"
     ]
    },
    {
     "name": "stdout",
     "output_type": "stream",
     "text": [
      "Train on 17976 samples, validate on 4494 samples\n",
      "Epoch 1/10\n",
      "17976/17976 [==============================] - 4s 215us/step - loss: 0.3974 - accuracy: 0.8662 - val_loss: 0.2819 - val_accuracy: 0.9061\n",
      "Epoch 2/10\n",
      "17976/17976 [==============================] - 3s 152us/step - loss: 0.2713 - accuracy: 0.9090 - val_loss: 0.2721 - val_accuracy: 0.9083\n",
      "Epoch 3/10\n",
      "17976/17976 [==============================] - 3s 154us/step - loss: 0.2368 - accuracy: 0.9224 - val_loss: 0.2515 - val_accuracy: 0.9188\n",
      "Epoch 4/10\n",
      "17976/17976 [==============================] - 3s 152us/step - loss: 0.2170 - accuracy: 0.9287 - val_loss: 0.2589 - val_accuracy: 0.9152\n",
      "Epoch 5/10\n",
      "17976/17976 [==============================] - 3s 154us/step - loss: 0.1979 - accuracy: 0.9324 - val_loss: 0.2342 - val_accuracy: 0.9228\n",
      "Epoch 6/10\n",
      "17976/17976 [==============================] - 3s 154us/step - loss: 0.1860 - accuracy: 0.9351 - val_loss: 0.2344 - val_accuracy: 0.9272\n",
      "Epoch 7/10\n",
      "17976/17976 [==============================] - 3s 154us/step - loss: 0.1727 - accuracy: 0.9398 - val_loss: 0.2279 - val_accuracy: 0.9299\n",
      "Epoch 8/10\n",
      "17976/17976 [==============================] - 3s 160us/step - loss: 0.1623 - accuracy: 0.9453 - val_loss: 0.2281 - val_accuracy: 0.9306\n",
      "Epoch 9/10\n",
      "17976/17976 [==============================] - 3s 157us/step - loss: 0.1521 - accuracy: 0.9473 - val_loss: 0.2378 - val_accuracy: 0.9283\n",
      "Epoch 00009: early stopping\n",
      "4494/4494 [==============================] - 0s 46us/step\n",
      "Train on 17976 samples, validate on 4494 samples\n",
      "Epoch 1/10\n",
      "17976/17976 [==============================] - 4s 204us/step - loss: 0.3842 - accuracy: 0.8721 - val_loss: 0.2936 - val_accuracy: 0.9021\n",
      "Epoch 2/10\n",
      "17976/17976 [==============================] - 3s 164us/step - loss: 0.2680 - accuracy: 0.9089 - val_loss: 0.2832 - val_accuracy: 0.9083\n",
      "Epoch 3/10\n",
      "17976/17976 [==============================] - 3s 173us/step - loss: 0.2325 - accuracy: 0.9250 - val_loss: 0.2408 - val_accuracy: 0.9226\n",
      "Epoch 4/10\n",
      "17976/17976 [==============================] - 3s 169us/step - loss: 0.2158 - accuracy: 0.9271 - val_loss: 0.2540 - val_accuracy: 0.9194\n",
      "Epoch 5/10\n",
      "17976/17976 [==============================] - 3s 166us/step - loss: 0.1972 - accuracy: 0.9325 - val_loss: 0.2325 - val_accuracy: 0.9239\n",
      "Epoch 6/10\n",
      "17976/17976 [==============================] - 3s 172us/step - loss: 0.1863 - accuracy: 0.9359 - val_loss: 0.2334 - val_accuracy: 0.9259\n",
      "Epoch 7/10\n",
      "17976/17976 [==============================] - 3s 168us/step - loss: 0.1712 - accuracy: 0.9434 - val_loss: 0.2299 - val_accuracy: 0.9275\n",
      "Epoch 8/10\n",
      "17976/17976 [==============================] - 3s 166us/step - loss: 0.1592 - accuracy: 0.9450 - val_loss: 0.2296 - val_accuracy: 0.9281\n",
      "Epoch 9/10\n",
      "17976/17976 [==============================] - 3s 155us/step - loss: 0.1523 - accuracy: 0.9460 - val_loss: 0.2355 - val_accuracy: 0.9243\n",
      "Epoch 10/10\n",
      "17976/17976 [==============================] - 3s 165us/step - loss: 0.1452 - accuracy: 0.9492 - val_loss: 0.2446 - val_accuracy: 0.9301\n",
      "Epoch 00010: early stopping\n",
      "4494/4494 [==============================] - 0s 43us/step\n"
     ]
    },
    {
     "name": "stderr",
     "output_type": "stream",
     "text": [
      "\r",
      "0% [#########################     ] 100% | ETA: 00:26:45"
     ]
    },
    {
     "name": "stdout",
     "output_type": "stream",
     "text": [
      "Train on 17976 samples, validate on 4494 samples\n",
      "Epoch 1/10\n",
      "17976/17976 [==============================] - 4s 207us/step - loss: 0.3818 - accuracy: 0.8731 - val_loss: 0.3025 - val_accuracy: 0.8963\n",
      "Epoch 2/10\n",
      "17976/17976 [==============================] - 3s 164us/step - loss: 0.2621 - accuracy: 0.9105 - val_loss: 0.2678 - val_accuracy: 0.9137\n",
      "Epoch 3/10\n",
      "17976/17976 [==============================] - 3s 165us/step - loss: 0.2268 - accuracy: 0.9250 - val_loss: 0.2394 - val_accuracy: 0.9221\n",
      "Epoch 4/10\n",
      "17976/17976 [==============================] - 3s 168us/step - loss: 0.2081 - accuracy: 0.9305 - val_loss: 0.2467 - val_accuracy: 0.9177\n",
      "Epoch 5/10\n",
      "17976/17976 [==============================] - 3s 168us/step - loss: 0.1924 - accuracy: 0.9336 - val_loss: 0.2279 - val_accuracy: 0.9290\n",
      "Epoch 6/10\n",
      "17976/17976 [==============================] - 3s 169us/step - loss: 0.1822 - accuracy: 0.9369 - val_loss: 0.2434 - val_accuracy: 0.9295\n",
      "Epoch 7/10\n",
      "17976/17976 [==============================] - 3s 170us/step - loss: 0.1731 - accuracy: 0.9386 - val_loss: 0.2176 - val_accuracy: 0.9312\n",
      "Epoch 8/10\n",
      "17976/17976 [==============================] - 3s 172us/step - loss: 0.1576 - accuracy: 0.9465 - val_loss: 0.2277 - val_accuracy: 0.9275\n",
      "Epoch 9/10\n",
      "17976/17976 [==============================] - 3s 171us/step - loss: 0.1503 - accuracy: 0.9470 - val_loss: 0.2187 - val_accuracy: 0.9328\n",
      "Epoch 00009: early stopping\n",
      "4494/4494 [==============================] - 0s 41us/step\n"
     ]
    },
    {
     "name": "stderr",
     "output_type": "stream",
     "text": [
      "\r",
      "0% [##########################    ] 100% | ETA: 00:23:04"
     ]
    },
    {
     "name": "stdout",
     "output_type": "stream",
     "text": [
      "Train on 17976 samples, validate on 4494 samples\n",
      "Epoch 1/10\n",
      "17976/17976 [==============================] - 4s 233us/step - loss: 0.3746 - accuracy: 0.8729 - val_loss: 0.3009 - val_accuracy: 0.8990\n",
      "Epoch 2/10\n",
      "17976/17976 [==============================] - 3s 184us/step - loss: 0.2693 - accuracy: 0.9094 - val_loss: 0.2722 - val_accuracy: 0.9126\n",
      "Epoch 3/10\n",
      "17976/17976 [==============================] - 3s 181us/step - loss: 0.2329 - accuracy: 0.9232 - val_loss: 0.2330 - val_accuracy: 0.9228\n",
      "Epoch 4/10\n",
      "17976/17976 [==============================] - 4s 196us/step - loss: 0.2124 - accuracy: 0.9278 - val_loss: 0.2528 - val_accuracy: 0.9168\n",
      "Epoch 5/10\n",
      "17976/17976 [==============================] - 4s 199us/step - loss: 0.1967 - accuracy: 0.9329 - val_loss: 0.2305 - val_accuracy: 0.9255\n",
      "Epoch 6/10\n",
      "17976/17976 [==============================] - 3s 189us/step - loss: 0.1828 - accuracy: 0.9372 - val_loss: 0.2252 - val_accuracy: 0.9283\n",
      "Epoch 7/10\n",
      "17976/17976 [==============================] - 3s 186us/step - loss: 0.1727 - accuracy: 0.9406 - val_loss: 0.2045 - val_accuracy: 0.9341\n",
      "Epoch 8/10\n",
      "17976/17976 [==============================] - 3s 186us/step - loss: 0.1608 - accuracy: 0.9432 - val_loss: 0.2229 - val_accuracy: 0.9308\n",
      "Epoch 9/10\n",
      "17976/17976 [==============================] - 3s 183us/step - loss: 0.1503 - accuracy: 0.9467 - val_loss: 0.2096 - val_accuracy: 0.9319\n",
      "Epoch 00009: early stopping\n",
      "4494/4494 [==============================] - 0s 42us/step\n",
      "Train on 17976 samples, validate on 4494 samples\n",
      "Epoch 1/10\n",
      "17976/17976 [==============================] - 5s 268us/step - loss: 0.3804 - accuracy: 0.8716 - val_loss: 0.3051 - val_accuracy: 0.8954\n",
      "Epoch 2/10\n",
      "17976/17976 [==============================] - 4s 210us/step - loss: 0.2656 - accuracy: 0.9109 - val_loss: 0.2797 - val_accuracy: 0.9112\n",
      "Epoch 3/10\n",
      "17976/17976 [==============================] - 4s 223us/step - loss: 0.2291 - accuracy: 0.9256 - val_loss: 0.2429 - val_accuracy: 0.9168\n",
      "Epoch 4/10\n",
      "17976/17976 [==============================] - 4s 231us/step - loss: 0.2140 - accuracy: 0.9285 - val_loss: 0.2734 - val_accuracy: 0.9083\n",
      "Epoch 5/10\n",
      "17976/17976 [==============================] - 5s 252us/step - loss: 0.1974 - accuracy: 0.9342 - val_loss: 0.2208 - val_accuracy: 0.9275\n",
      "Epoch 6/10\n",
      "17976/17976 [==============================] - 5s 259us/step - loss: 0.1806 - accuracy: 0.9375 - val_loss: 0.2367 - val_accuracy: 0.9272\n",
      "Epoch 7/10\n",
      "17976/17976 [==============================] - 5s 253us/step - loss: 0.1736 - accuracy: 0.9401 - val_loss: 0.2151 - val_accuracy: 0.9344\n",
      "Epoch 8/10\n",
      "17976/17976 [==============================] - 4s 213us/step - loss: 0.1592 - accuracy: 0.9452 - val_loss: 0.2292 - val_accuracy: 0.9324\n",
      "Epoch 9/10\n",
      "17976/17976 [==============================] - 4s 236us/step - loss: 0.1471 - accuracy: 0.9474 - val_loss: 0.2254 - val_accuracy: 0.9299\n",
      "Epoch 00009: early stopping\n",
      "4494/4494 [==============================] - 0s 56us/step\n"
     ]
    },
    {
     "name": "stderr",
     "output_type": "stream",
     "text": [
      "\r",
      "0% [###########################   ] 100% | ETA: 00:15:37"
     ]
    },
    {
     "name": "stdout",
     "output_type": "stream",
     "text": [
      "Train on 17976 samples, validate on 4494 samples\n",
      "Epoch 1/10\n",
      "17976/17976 [==============================] - 4s 231us/step - loss: 0.3802 - accuracy: 0.8713 - val_loss: 0.2981 - val_accuracy: 0.8981\n",
      "Epoch 2/10\n",
      "17976/17976 [==============================] - 4s 206us/step - loss: 0.2694 - accuracy: 0.9086 - val_loss: 0.2704 - val_accuracy: 0.9119\n",
      "Epoch 3/10\n",
      "17976/17976 [==============================] - 3s 194us/step - loss: 0.2340 - accuracy: 0.9233 - val_loss: 0.2308 - val_accuracy: 0.9237\n",
      "Epoch 4/10\n",
      "17976/17976 [==============================] - 4s 197us/step - loss: 0.2177 - accuracy: 0.9278 - val_loss: 0.2731 - val_accuracy: 0.9072\n",
      "Epoch 5/10\n",
      "17976/17976 [==============================] - 3s 195us/step - loss: 0.1995 - accuracy: 0.9315 - val_loss: 0.2217 - val_accuracy: 0.9275\n",
      "Epoch 6/10\n",
      "17976/17976 [==============================] - 3s 194us/step - loss: 0.1875 - accuracy: 0.9353 - val_loss: 0.2377 - val_accuracy: 0.9219\n",
      "Epoch 7/10\n",
      "17976/17976 [==============================] - 4s 207us/step - loss: 0.1755 - accuracy: 0.9394 - val_loss: 0.2251 - val_accuracy: 0.9281\n",
      "Epoch 00007: early stopping\n",
      "4494/4494 [==============================] - 0s 44us/step\n",
      "Train on 17976 samples, validate on 4494 samples\n",
      "Epoch 1/10\n",
      "17976/17976 [==============================] - 7s 385us/step - loss: 0.3740 - accuracy: 0.8733 - val_loss: 0.3174 - val_accuracy: 0.8936\n",
      "Epoch 2/10\n",
      "17976/17976 [==============================] - 4s 246us/step - loss: 0.2700 - accuracy: 0.9095 - val_loss: 0.2651 - val_accuracy: 0.9121\n",
      "Epoch 3/10\n",
      "17976/17976 [==============================] - 4s 250us/step - loss: 0.2328 - accuracy: 0.9226 - val_loss: 0.2332 - val_accuracy: 0.9237\n",
      "Epoch 4/10\n",
      "17976/17976 [==============================] - 5s 259us/step - loss: 0.2159 - accuracy: 0.9272 - val_loss: 0.2626 - val_accuracy: 0.9163\n",
      "Epoch 5/10\n",
      "17976/17976 [==============================] - 5s 252us/step - loss: 0.1979 - accuracy: 0.9342 - val_loss: 0.2206 - val_accuracy: 0.9317\n",
      "Epoch 6/10\n",
      "17976/17976 [==============================] - 4s 205us/step - loss: 0.1853 - accuracy: 0.9363 - val_loss: 0.2295 - val_accuracy: 0.9290\n",
      "Epoch 7/10\n",
      "17976/17976 [==============================] - 4s 204us/step - loss: 0.1763 - accuracy: 0.9398 - val_loss: 0.2351 - val_accuracy: 0.9255\n",
      "Epoch 00007: early stopping\n",
      "4494/4494 [==============================] - 0s 43us/step\n"
     ]
    },
    {
     "name": "stderr",
     "output_type": "stream",
     "text": [
      "\r",
      "0% [############################  ] 100% | ETA: 00:07:56"
     ]
    },
    {
     "name": "stdout",
     "output_type": "stream",
     "text": [
      "Train on 17976 samples, validate on 4494 samples\n",
      "Epoch 1/10\n",
      "17976/17976 [==============================] - 5s 256us/step - loss: 0.3795 - accuracy: 0.8747 - val_loss: 0.2922 - val_accuracy: 0.9070\n",
      "Epoch 2/10\n",
      "17976/17976 [==============================] - 5s 253us/step - loss: 0.2654 - accuracy: 0.9109 - val_loss: 0.2774 - val_accuracy: 0.9072\n",
      "Epoch 3/10\n",
      "17976/17976 [==============================] - 4s 236us/step - loss: 0.2330 - accuracy: 0.9234 - val_loss: 0.2442 - val_accuracy: 0.9188\n",
      "Epoch 4/10\n",
      "17976/17976 [==============================] - 5s 256us/step - loss: 0.2139 - accuracy: 0.9277 - val_loss: 0.2752 - val_accuracy: 0.9077\n",
      "Epoch 5/10\n",
      "17976/17976 [==============================] - 4s 241us/step - loss: 0.1962 - accuracy: 0.9332 - val_loss: 0.2184 - val_accuracy: 0.9279\n",
      "Epoch 6/10\n",
      "17976/17976 [==============================] - 5s 256us/step - loss: 0.1833 - accuracy: 0.9367 - val_loss: 0.2445 - val_accuracy: 0.9206\n",
      "Epoch 7/10\n",
      "17976/17976 [==============================] - 4s 237us/step - loss: 0.1775 - accuracy: 0.9373 - val_loss: 0.2340 - val_accuracy: 0.9299\n",
      "Epoch 00007: early stopping\n",
      "4494/4494 [==============================] - 0s 56us/step\n"
     ]
    },
    {
     "name": "stderr",
     "output_type": "stream",
     "text": [
      "\r",
      "0% [############################# ] 100% | ETA: 00:03:59"
     ]
    },
    {
     "name": "stdout",
     "output_type": "stream",
     "text": [
      "Train on 17976 samples, validate on 4494 samples\n",
      "Epoch 1/10\n",
      "17976/17976 [==============================] - 5s 257us/step - loss: 0.3733 - accuracy: 0.8746 - val_loss: 0.3097 - val_accuracy: 0.8968\n",
      "Epoch 2/10\n",
      "17976/17976 [==============================] - 4s 205us/step - loss: 0.2699 - accuracy: 0.9088 - val_loss: 0.2672 - val_accuracy: 0.9128\n",
      "Epoch 3/10\n",
      "17976/17976 [==============================] - 4s 211us/step - loss: 0.2384 - accuracy: 0.9206 - val_loss: 0.2337 - val_accuracy: 0.9223\n",
      "Epoch 4/10\n",
      "17976/17976 [==============================] - 4s 218us/step - loss: 0.2179 - accuracy: 0.9255 - val_loss: 0.2640 - val_accuracy: 0.9121\n",
      "Epoch 5/10\n",
      "17976/17976 [==============================] - 4s 215us/step - loss: 0.2010 - accuracy: 0.9305 - val_loss: 0.2308 - val_accuracy: 0.9268\n",
      "Epoch 6/10\n",
      "17976/17976 [==============================] - 4s 218us/step - loss: 0.1863 - accuracy: 0.9366 - val_loss: 0.2363 - val_accuracy: 0.9226\n",
      "Epoch 7/10\n",
      "17976/17976 [==============================] - 4s 220us/step - loss: 0.1771 - accuracy: 0.9376 - val_loss: 0.2325 - val_accuracy: 0.9279\n",
      "Epoch 00007: early stopping\n",
      "4494/4494 [==============================] - 0s 44us/step\n"
     ]
    },
    {
     "name": "stderr",
     "output_type": "stream",
     "text": [
      "0% [##############################] 100% | ETA: 00:00:00\n",
      "Total time elapsed: 03:00:38\n"
     ]
    },
    {
     "name": "stdout",
     "output_type": "stream",
     "text": [
      "Title: \n",
      "  Started: 06/24/2020 12:48:55\n",
      "  Finished: 06/24/2020 15:49:34\n",
      "  Total time elapsed: 03:00:38\n",
      "  CPU %: 234.90\n",
      "  Memory %: 6.31\n"
     ]
    }
   ],
   "source": [
    "param_dict = {'walk_length': [40, 50, 60, 70, 80],\n",
    "              'embedding_dimensions': [80, 90, 100, 110, 120, 130, 140, 150, 160]}\n",
    "\n",
    "results = grid_search('neural network', param_dict, graph, target)"
   ]
  },
  {
   "cell_type": "code",
   "execution_count": 30,
   "metadata": {},
   "outputs": [
    {
     "data": {
      "text/html": [
       "<div>\n",
       "<style scoped>\n",
       "    .dataframe tbody tr th:only-of-type {\n",
       "        vertical-align: middle;\n",
       "    }\n",
       "\n",
       "    .dataframe tbody tr th {\n",
       "        vertical-align: top;\n",
       "    }\n",
       "\n",
       "    .dataframe thead th {\n",
       "        text-align: right;\n",
       "    }\n",
       "</style>\n",
       "<table border=\"1\" class=\"dataframe\">\n",
       "  <thead>\n",
       "    <tr style=\"text-align: right;\">\n",
       "      <th></th>\n",
       "      <th>walk_length</th>\n",
       "      <th>embedding_dimensions</th>\n",
       "      <th>accuracy</th>\n",
       "    </tr>\n",
       "  </thead>\n",
       "  <tbody>\n",
       "    <tr>\n",
       "      <th>0</th>\n",
       "      <td>40</td>\n",
       "      <td>80</td>\n",
       "      <td>0.916110</td>\n",
       "    </tr>\n",
       "    <tr>\n",
       "      <th>1</th>\n",
       "      <td>40</td>\n",
       "      <td>90</td>\n",
       "      <td>0.919003</td>\n",
       "    </tr>\n",
       "    <tr>\n",
       "      <th>2</th>\n",
       "      <td>40</td>\n",
       "      <td>100</td>\n",
       "      <td>0.922786</td>\n",
       "    </tr>\n",
       "    <tr>\n",
       "      <th>3</th>\n",
       "      <td>40</td>\n",
       "      <td>110</td>\n",
       "      <td>0.922118</td>\n",
       "    </tr>\n",
       "    <tr>\n",
       "      <th>4</th>\n",
       "      <td>40</td>\n",
       "      <td>120</td>\n",
       "      <td>0.923899</td>\n",
       "    </tr>\n",
       "    <tr>\n",
       "      <th>5</th>\n",
       "      <td>40</td>\n",
       "      <td>130</td>\n",
       "      <td>0.921673</td>\n",
       "    </tr>\n",
       "    <tr>\n",
       "      <th>6</th>\n",
       "      <td>40</td>\n",
       "      <td>140</td>\n",
       "      <td>0.920116</td>\n",
       "    </tr>\n",
       "    <tr>\n",
       "      <th>7</th>\n",
       "      <td>40</td>\n",
       "      <td>150</td>\n",
       "      <td>0.921451</td>\n",
       "    </tr>\n",
       "    <tr>\n",
       "      <th>8</th>\n",
       "      <td>40</td>\n",
       "      <td>160</td>\n",
       "      <td>0.921451</td>\n",
       "    </tr>\n",
       "    <tr>\n",
       "      <th>9</th>\n",
       "      <td>50</td>\n",
       "      <td>80</td>\n",
       "      <td>0.919003</td>\n",
       "    </tr>\n",
       "    <tr>\n",
       "      <th>10</th>\n",
       "      <td>50</td>\n",
       "      <td>90</td>\n",
       "      <td>0.923454</td>\n",
       "    </tr>\n",
       "    <tr>\n",
       "      <th>11</th>\n",
       "      <td>50</td>\n",
       "      <td>100</td>\n",
       "      <td>0.927236</td>\n",
       "    </tr>\n",
       "    <tr>\n",
       "      <th>12</th>\n",
       "      <td>50</td>\n",
       "      <td>110</td>\n",
       "      <td>0.927904</td>\n",
       "    </tr>\n",
       "    <tr>\n",
       "      <th>13</th>\n",
       "      <td>50</td>\n",
       "      <td>120</td>\n",
       "      <td>0.928349</td>\n",
       "    </tr>\n",
       "    <tr>\n",
       "      <th>14</th>\n",
       "      <td>50</td>\n",
       "      <td>130</td>\n",
       "      <td>0.923008</td>\n",
       "    </tr>\n",
       "    <tr>\n",
       "      <th>15</th>\n",
       "      <td>50</td>\n",
       "      <td>140</td>\n",
       "      <td>0.927236</td>\n",
       "    </tr>\n",
       "    <tr>\n",
       "      <th>16</th>\n",
       "      <td>50</td>\n",
       "      <td>150</td>\n",
       "      <td>0.931687</td>\n",
       "    </tr>\n",
       "    <tr>\n",
       "      <th>17</th>\n",
       "      <td>50</td>\n",
       "      <td>160</td>\n",
       "      <td>0.925679</td>\n",
       "    </tr>\n",
       "    <tr>\n",
       "      <th>18</th>\n",
       "      <td>60</td>\n",
       "      <td>80</td>\n",
       "      <td>0.922563</td>\n",
       "    </tr>\n",
       "    <tr>\n",
       "      <th>19</th>\n",
       "      <td>60</td>\n",
       "      <td>90</td>\n",
       "      <td>0.928794</td>\n",
       "    </tr>\n",
       "    <tr>\n",
       "      <th>20</th>\n",
       "      <td>60</td>\n",
       "      <td>100</td>\n",
       "      <td>0.923899</td>\n",
       "    </tr>\n",
       "    <tr>\n",
       "      <th>21</th>\n",
       "      <td>60</td>\n",
       "      <td>110</td>\n",
       "      <td>0.918558</td>\n",
       "    </tr>\n",
       "    <tr>\n",
       "      <th>22</th>\n",
       "      <td>60</td>\n",
       "      <td>120</td>\n",
       "      <td>0.924121</td>\n",
       "    </tr>\n",
       "    <tr>\n",
       "      <th>23</th>\n",
       "      <td>60</td>\n",
       "      <td>130</td>\n",
       "      <td>0.926346</td>\n",
       "    </tr>\n",
       "    <tr>\n",
       "      <th>24</th>\n",
       "      <td>60</td>\n",
       "      <td>140</td>\n",
       "      <td>0.927904</td>\n",
       "    </tr>\n",
       "    <tr>\n",
       "      <th>25</th>\n",
       "      <td>60</td>\n",
       "      <td>150</td>\n",
       "      <td>0.923231</td>\n",
       "    </tr>\n",
       "    <tr>\n",
       "      <th>26</th>\n",
       "      <td>60</td>\n",
       "      <td>160</td>\n",
       "      <td>0.922786</td>\n",
       "    </tr>\n",
       "    <tr>\n",
       "      <th>27</th>\n",
       "      <td>70</td>\n",
       "      <td>80</td>\n",
       "      <td>0.926791</td>\n",
       "    </tr>\n",
       "    <tr>\n",
       "      <th>28</th>\n",
       "      <td>70</td>\n",
       "      <td>90</td>\n",
       "      <td>0.927904</td>\n",
       "    </tr>\n",
       "    <tr>\n",
       "      <th>29</th>\n",
       "      <td>70</td>\n",
       "      <td>100</td>\n",
       "      <td>0.923008</td>\n",
       "    </tr>\n",
       "    <tr>\n",
       "      <th>30</th>\n",
       "      <td>70</td>\n",
       "      <td>110</td>\n",
       "      <td>0.929907</td>\n",
       "    </tr>\n",
       "    <tr>\n",
       "      <th>31</th>\n",
       "      <td>70</td>\n",
       "      <td>120</td>\n",
       "      <td>0.925901</td>\n",
       "    </tr>\n",
       "    <tr>\n",
       "      <th>32</th>\n",
       "      <td>70</td>\n",
       "      <td>130</td>\n",
       "      <td>0.927681</td>\n",
       "    </tr>\n",
       "    <tr>\n",
       "      <th>33</th>\n",
       "      <td>70</td>\n",
       "      <td>140</td>\n",
       "      <td>0.923008</td>\n",
       "    </tr>\n",
       "    <tr>\n",
       "      <th>34</th>\n",
       "      <td>70</td>\n",
       "      <td>150</td>\n",
       "      <td>0.932132</td>\n",
       "    </tr>\n",
       "    <tr>\n",
       "      <th>35</th>\n",
       "      <td>70</td>\n",
       "      <td>160</td>\n",
       "      <td>0.923454</td>\n",
       "    </tr>\n",
       "    <tr>\n",
       "      <th>36</th>\n",
       "      <td>80</td>\n",
       "      <td>80</td>\n",
       "      <td>0.928349</td>\n",
       "    </tr>\n",
       "    <tr>\n",
       "      <th>37</th>\n",
       "      <td>80</td>\n",
       "      <td>90</td>\n",
       "      <td>0.930129</td>\n",
       "    </tr>\n",
       "    <tr>\n",
       "      <th>38</th>\n",
       "      <td>80</td>\n",
       "      <td>100</td>\n",
       "      <td>0.932799</td>\n",
       "    </tr>\n",
       "    <tr>\n",
       "      <th>39</th>\n",
       "      <td>80</td>\n",
       "      <td>110</td>\n",
       "      <td>0.931909</td>\n",
       "    </tr>\n",
       "    <tr>\n",
       "      <th>40</th>\n",
       "      <td>80</td>\n",
       "      <td>120</td>\n",
       "      <td>0.929907</td>\n",
       "    </tr>\n",
       "    <tr>\n",
       "      <th>41</th>\n",
       "      <td>80</td>\n",
       "      <td>130</td>\n",
       "      <td>0.928126</td>\n",
       "    </tr>\n",
       "    <tr>\n",
       "      <th>42</th>\n",
       "      <td>80</td>\n",
       "      <td>140</td>\n",
       "      <td>0.925456</td>\n",
       "    </tr>\n",
       "    <tr>\n",
       "      <th>43</th>\n",
       "      <td>80</td>\n",
       "      <td>150</td>\n",
       "      <td>0.929907</td>\n",
       "    </tr>\n",
       "    <tr>\n",
       "      <th>44</th>\n",
       "      <td>80</td>\n",
       "      <td>160</td>\n",
       "      <td>0.927904</td>\n",
       "    </tr>\n",
       "  </tbody>\n",
       "</table>\n",
       "</div>"
      ],
      "text/plain": [
       "    walk_length  embedding_dimensions  accuracy\n",
       "0            40                    80  0.916110\n",
       "1            40                    90  0.919003\n",
       "2            40                   100  0.922786\n",
       "3            40                   110  0.922118\n",
       "4            40                   120  0.923899\n",
       "5            40                   130  0.921673\n",
       "6            40                   140  0.920116\n",
       "7            40                   150  0.921451\n",
       "8            40                   160  0.921451\n",
       "9            50                    80  0.919003\n",
       "10           50                    90  0.923454\n",
       "11           50                   100  0.927236\n",
       "12           50                   110  0.927904\n",
       "13           50                   120  0.928349\n",
       "14           50                   130  0.923008\n",
       "15           50                   140  0.927236\n",
       "16           50                   150  0.931687\n",
       "17           50                   160  0.925679\n",
       "18           60                    80  0.922563\n",
       "19           60                    90  0.928794\n",
       "20           60                   100  0.923899\n",
       "21           60                   110  0.918558\n",
       "22           60                   120  0.924121\n",
       "23           60                   130  0.926346\n",
       "24           60                   140  0.927904\n",
       "25           60                   150  0.923231\n",
       "26           60                   160  0.922786\n",
       "27           70                    80  0.926791\n",
       "28           70                    90  0.927904\n",
       "29           70                   100  0.923008\n",
       "30           70                   110  0.929907\n",
       "31           70                   120  0.925901\n",
       "32           70                   130  0.927681\n",
       "33           70                   140  0.923008\n",
       "34           70                   150  0.932132\n",
       "35           70                   160  0.923454\n",
       "36           80                    80  0.928349\n",
       "37           80                    90  0.930129\n",
       "38           80                   100  0.932799\n",
       "39           80                   110  0.931909\n",
       "40           80                   120  0.929907\n",
       "41           80                   130  0.928126\n",
       "42           80                   140  0.925456\n",
       "43           80                   150  0.929907\n",
       "44           80                   160  0.927904"
      ]
     },
     "execution_count": 30,
     "metadata": {},
     "output_type": "execute_result"
    }
   ],
   "source": [
    "results"
   ]
  },
  {
   "cell_type": "code",
   "execution_count": 31,
   "metadata": {},
   "outputs": [],
   "source": [
    "avg_accuracy_embedding_dims = results.groupby('embedding_dimensions').mean()"
   ]
  },
  {
   "cell_type": "code",
   "execution_count": 32,
   "metadata": {},
   "outputs": [],
   "source": [
    "avg_accuracy_walk_length = results.groupby('walk_length').mean()"
   ]
  },
  {
   "cell_type": "code",
   "execution_count": 33,
   "metadata": {},
   "outputs": [
    {
     "data": {
      "text/plain": [
       "<matplotlib.axes._subplots.AxesSubplot at 0x7ffc296ac6d0>"
      ]
     },
     "execution_count": 33,
     "metadata": {},
     "output_type": "execute_result"
    },
    {
     "data": {
      "image/png": "[encoded data removed]",
      "text/plain": [
       "<Figure size 432x288 with 1 Axes>"
      ]
     },
     "metadata": {
      "needs_background": "light"
     },
     "output_type": "display_data"
    }
   ],
   "source": [
    "plt.title('Embedding Dimensions and Average Accuracy')\n",
    "sns.lineplot(avg_accuracy_embedding_dims.index, 100*avg_accuracy_embedding_dims['accuracy'])"
   ]
  },
  {
   "cell_type": "code",
   "execution_count": 34,
   "metadata": {},
   "outputs": [
    {
     "data": {
      "text/plain": [
       "<matplotlib.axes._subplots.AxesSubplot at 0x7ffbaf054cd0>"
      ]
     },
     "execution_count": 34,
     "metadata": {},
     "output_type": "execute_result"
    },
    {
     "data": {
      "image/png": "[encoded data removed]",
      "text/plain": [
       "<Figure size 432x288 with 1 Axes>"
      ]
     },
     "metadata": {
      "needs_background": "light"
     },
     "output_type": "display_data"
    }
   ],
   "source": [
    "plt.title('Walk Length and Average Accuracy')\n",
    "sns.lineplot(avg_accuracy_walk_length.index, 100*avg_accuracy_walk_length['accuracy'])"
   ]
  }
 ],
 "metadata": {
  "kernelspec": {
   "display_name": "Python 3",
   "language": "python",
   "name": "python3"
  },
  "language_info": {
   "codemirror_mode": {
    "name": "ipython",
    "version": 3
   },
   "file_extension": ".py",
   "mimetype": "text/x-python",
   "name": "python",
   "nbconvert_exporter": "python",
   "pygments_lexer": "ipython3",
   "version": "3.7.6"
  }
 },
 "nbformat": 4,
 "nbformat_minor": 4
}
